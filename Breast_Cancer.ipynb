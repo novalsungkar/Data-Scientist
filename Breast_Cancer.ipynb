{
  "nbformat": 4,
  "nbformat_minor": 0,
  "metadata": {
    "colab": {
      "provenance": [],
      "include_colab_link": true
    },
    "kernelspec": {
      "name": "python3",
      "display_name": "Python 3"
    },
    "language_info": {
      "name": "python"
    }
  },
  "cells": [
    {
      "cell_type": "markdown",
      "metadata": {
        "id": "view-in-github",
        "colab_type": "text"
      },
      "source": [
        "<a href=\"https://colab.research.google.com/github/novalsungkar/Data-Scientist/blob/main/Breast_Cancer.ipynb\" target=\"_parent\"><img src=\"https://colab.research.google.com/assets/colab-badge.svg\" alt=\"Open In Colab\"/></a>"
      ]
    },
    {
      "cell_type": "code",
      "execution_count": null,
      "metadata": {
        "id": "U5gpyPBsrRZw"
      },
      "outputs": [],
      "source": []
    },
    {
      "cell_type": "markdown",
      "source": [
        "# 1) Mengumpulkan data\n",
        "- mengambil dataset dari UCI Dataset\n",
        "- mengunduh 2 file dengan esktensi data dan name\n"
      ],
      "metadata": {
        "id": "ySELpeHerXFt"
      }
    },
    {
      "cell_type": "markdown",
      "source": [
        "# 2) Menelaah Data\n",
        "terdiri dari :\n",
        "\n",
        "- Load Library yang diperlukan.\n",
        "- Load Dataset Breast Cancer.\n",
        "- Memberi nama header atribut atau fitur (jika belum ada).\n",
        "- Menganalisa tipe dan relasi data (melihat tipe dataset, ukuran dataset, distribusi class, deskripsi dataset).\n",
        "- Memberikan laporan atau kesimpulan dari kegiatan menelaah data Breast Cancer."
      ],
      "metadata": {
        "id": "72fxOgwhtXKO"
      }
    },
    {
      "cell_type": "markdown",
      "source": [],
      "metadata": {
        "id": "HUKbLuu4tmFf"
      }
    },
    {
      "cell_type": "code",
      "source": [],
      "metadata": {
        "id": "Vm860aYkuB-X"
      },
      "execution_count": null,
      "outputs": []
    },
    {
      "cell_type": "code",
      "execution_count": null,
      "metadata": {
        "id": "da513c4f"
      },
      "outputs": [],
      "source": [
        "#from google.colab import drive\n",
        "#drive.mount('/content/drive')\n",
        "\n",
        "#import sys\n",
        "#sys.path.append('/content/drive/My Drive/Colab Notebooks/')"
      ]
    },
    {
      "cell_type": "markdown",
      "source": [
        "Load Library => pandas, numpy, sklearn, matplotlib, seaborn, missingno (jika belum ada install dulu => conda install ...)\n",
        "\n",
        "Install library yang diperlukan (pandas, numpy, sklearn, matplotlib, seaborn, missingno) => conda install pandas, numpy, sklearn, matplotlib, seaborn, missingno atau => pip install pandas, numpy, sklearn, matplotlib, seaborn, missingno"
      ],
      "metadata": {
        "id": "1gwEa2ZMuVzX"
      }
    },
    {
      "cell_type": "code",
      "source": [
        "# Load Library yang diperlukan\n",
        "\n",
        "import pandas as pd\n",
        "import numpy as np\n",
        "from sklearn.model_selection import train_test_split\n",
        "from sklearn.model_selection import GridSearchCV\n",
        "from sklearn.metrics import accuracy_score\n",
        "from sklearn.metrics import precision_score\n",
        "from sklearn.metrics import recall_score\n",
        "from sklearn.metrics import confusion_matrix\n",
        "from sklearn.pipeline import Pipeline\n",
        "from sklearn.tree import DecisionTreeClassifier\n",
        "from sklearn.naive_bayes import MultinomialNB\n",
        "import matplotlib.pyplot as plt\n",
        "%matplotlib inline\n",
        "import seaborn as sns\n",
        "import missingno\n",
        "from sklearn.preprocessing import StandardScaler\n",
        "from sklearn.decomposition import PCA"
      ],
      "metadata": {
        "id": "Xrk89JVNuhwn"
      },
      "execution_count": null,
      "outputs": []
    },
    {
      "cell_type": "code",
      "source": [],
      "metadata": {
        "id": "Z3MAf0F3uv8V"
      },
      "execution_count": null,
      "outputs": []
    },
    {
      "cell_type": "code",
      "execution_count": null,
      "metadata": {
        "id": "55cc11c1",
        "colab": {
          "base_uri": "https://localhost:8080/",
          "height": 236
        },
        "outputId": "7be4e211-49e7-4ad2-c54f-de926ec22605"
      },
      "outputs": [
        {
          "output_type": "execute_result",
          "data": {
            "text/plain": [
              "         0  1      2      3       4       5        6        7       8   \\\n",
              "0    842302  M  17.99  10.38  122.80  1001.0  0.11840  0.27760  0.3001   \n",
              "1    842517  M  20.57  17.77  132.90  1326.0  0.08474  0.07864  0.0869   \n",
              "2  84300903  M  19.69  21.25  130.00  1203.0  0.10960  0.15990  0.1974   \n",
              "3  84348301  M  11.42  20.38   77.58   386.1  0.14250  0.28390  0.2414   \n",
              "4  84358402  M  20.29  14.34  135.10  1297.0  0.10030  0.13280  0.1980   \n",
              "\n",
              "        9   ...     22     23      24      25      26      27      28      29  \\\n",
              "0  0.14710  ...  25.38  17.33  184.60  2019.0  0.1622  0.6656  0.7119  0.2654   \n",
              "1  0.07017  ...  24.99  23.41  158.80  1956.0  0.1238  0.1866  0.2416  0.1860   \n",
              "2  0.12790  ...  23.57  25.53  152.50  1709.0  0.1444  0.4245  0.4504  0.2430   \n",
              "3  0.10520  ...  14.91  26.50   98.87   567.7  0.2098  0.8663  0.6869  0.2575   \n",
              "4  0.10430  ...  22.54  16.67  152.20  1575.0  0.1374  0.2050  0.4000  0.1625   \n",
              "\n",
              "       30       31  \n",
              "0  0.4601  0.11890  \n",
              "1  0.2750  0.08902  \n",
              "2  0.3613  0.08758  \n",
              "3  0.6638  0.17300  \n",
              "4  0.2364  0.07678  \n",
              "\n",
              "[5 rows x 32 columns]"
            ],
            "text/html": [
              "\n",
              "  <div id=\"df-79820cc7-a479-47f5-ac72-73639525c317\">\n",
              "    <div class=\"colab-df-container\">\n",
              "      <div>\n",
              "<style scoped>\n",
              "    .dataframe tbody tr th:only-of-type {\n",
              "        vertical-align: middle;\n",
              "    }\n",
              "\n",
              "    .dataframe tbody tr th {\n",
              "        vertical-align: top;\n",
              "    }\n",
              "\n",
              "    .dataframe thead th {\n",
              "        text-align: right;\n",
              "    }\n",
              "</style>\n",
              "<table border=\"1\" class=\"dataframe\">\n",
              "  <thead>\n",
              "    <tr style=\"text-align: right;\">\n",
              "      <th></th>\n",
              "      <th>0</th>\n",
              "      <th>1</th>\n",
              "      <th>2</th>\n",
              "      <th>3</th>\n",
              "      <th>4</th>\n",
              "      <th>5</th>\n",
              "      <th>6</th>\n",
              "      <th>7</th>\n",
              "      <th>8</th>\n",
              "      <th>9</th>\n",
              "      <th>...</th>\n",
              "      <th>22</th>\n",
              "      <th>23</th>\n",
              "      <th>24</th>\n",
              "      <th>25</th>\n",
              "      <th>26</th>\n",
              "      <th>27</th>\n",
              "      <th>28</th>\n",
              "      <th>29</th>\n",
              "      <th>30</th>\n",
              "      <th>31</th>\n",
              "    </tr>\n",
              "  </thead>\n",
              "  <tbody>\n",
              "    <tr>\n",
              "      <th>0</th>\n",
              "      <td>842302</td>\n",
              "      <td>M</td>\n",
              "      <td>17.99</td>\n",
              "      <td>10.38</td>\n",
              "      <td>122.80</td>\n",
              "      <td>1001.0</td>\n",
              "      <td>0.11840</td>\n",
              "      <td>0.27760</td>\n",
              "      <td>0.3001</td>\n",
              "      <td>0.14710</td>\n",
              "      <td>...</td>\n",
              "      <td>25.38</td>\n",
              "      <td>17.33</td>\n",
              "      <td>184.60</td>\n",
              "      <td>2019.0</td>\n",
              "      <td>0.1622</td>\n",
              "      <td>0.6656</td>\n",
              "      <td>0.7119</td>\n",
              "      <td>0.2654</td>\n",
              "      <td>0.4601</td>\n",
              "      <td>0.11890</td>\n",
              "    </tr>\n",
              "    <tr>\n",
              "      <th>1</th>\n",
              "      <td>842517</td>\n",
              "      <td>M</td>\n",
              "      <td>20.57</td>\n",
              "      <td>17.77</td>\n",
              "      <td>132.90</td>\n",
              "      <td>1326.0</td>\n",
              "      <td>0.08474</td>\n",
              "      <td>0.07864</td>\n",
              "      <td>0.0869</td>\n",
              "      <td>0.07017</td>\n",
              "      <td>...</td>\n",
              "      <td>24.99</td>\n",
              "      <td>23.41</td>\n",
              "      <td>158.80</td>\n",
              "      <td>1956.0</td>\n",
              "      <td>0.1238</td>\n",
              "      <td>0.1866</td>\n",
              "      <td>0.2416</td>\n",
              "      <td>0.1860</td>\n",
              "      <td>0.2750</td>\n",
              "      <td>0.08902</td>\n",
              "    </tr>\n",
              "    <tr>\n",
              "      <th>2</th>\n",
              "      <td>84300903</td>\n",
              "      <td>M</td>\n",
              "      <td>19.69</td>\n",
              "      <td>21.25</td>\n",
              "      <td>130.00</td>\n",
              "      <td>1203.0</td>\n",
              "      <td>0.10960</td>\n",
              "      <td>0.15990</td>\n",
              "      <td>0.1974</td>\n",
              "      <td>0.12790</td>\n",
              "      <td>...</td>\n",
              "      <td>23.57</td>\n",
              "      <td>25.53</td>\n",
              "      <td>152.50</td>\n",
              "      <td>1709.0</td>\n",
              "      <td>0.1444</td>\n",
              "      <td>0.4245</td>\n",
              "      <td>0.4504</td>\n",
              "      <td>0.2430</td>\n",
              "      <td>0.3613</td>\n",
              "      <td>0.08758</td>\n",
              "    </tr>\n",
              "    <tr>\n",
              "      <th>3</th>\n",
              "      <td>84348301</td>\n",
              "      <td>M</td>\n",
              "      <td>11.42</td>\n",
              "      <td>20.38</td>\n",
              "      <td>77.58</td>\n",
              "      <td>386.1</td>\n",
              "      <td>0.14250</td>\n",
              "      <td>0.28390</td>\n",
              "      <td>0.2414</td>\n",
              "      <td>0.10520</td>\n",
              "      <td>...</td>\n",
              "      <td>14.91</td>\n",
              "      <td>26.50</td>\n",
              "      <td>98.87</td>\n",
              "      <td>567.7</td>\n",
              "      <td>0.2098</td>\n",
              "      <td>0.8663</td>\n",
              "      <td>0.6869</td>\n",
              "      <td>0.2575</td>\n",
              "      <td>0.6638</td>\n",
              "      <td>0.17300</td>\n",
              "    </tr>\n",
              "    <tr>\n",
              "      <th>4</th>\n",
              "      <td>84358402</td>\n",
              "      <td>M</td>\n",
              "      <td>20.29</td>\n",
              "      <td>14.34</td>\n",
              "      <td>135.10</td>\n",
              "      <td>1297.0</td>\n",
              "      <td>0.10030</td>\n",
              "      <td>0.13280</td>\n",
              "      <td>0.1980</td>\n",
              "      <td>0.10430</td>\n",
              "      <td>...</td>\n",
              "      <td>22.54</td>\n",
              "      <td>16.67</td>\n",
              "      <td>152.20</td>\n",
              "      <td>1575.0</td>\n",
              "      <td>0.1374</td>\n",
              "      <td>0.2050</td>\n",
              "      <td>0.4000</td>\n",
              "      <td>0.1625</td>\n",
              "      <td>0.2364</td>\n",
              "      <td>0.07678</td>\n",
              "    </tr>\n",
              "  </tbody>\n",
              "</table>\n",
              "<p>5 rows × 32 columns</p>\n",
              "</div>\n",
              "      <button class=\"colab-df-convert\" onclick=\"convertToInteractive('df-79820cc7-a479-47f5-ac72-73639525c317')\"\n",
              "              title=\"Convert this dataframe to an interactive table.\"\n",
              "              style=\"display:none;\">\n",
              "        \n",
              "  <svg xmlns=\"http://www.w3.org/2000/svg\" height=\"24px\"viewBox=\"0 0 24 24\"\n",
              "       width=\"24px\">\n",
              "    <path d=\"M0 0h24v24H0V0z\" fill=\"none\"/>\n",
              "    <path d=\"M18.56 5.44l.94 2.06.94-2.06 2.06-.94-2.06-.94-.94-2.06-.94 2.06-2.06.94zm-11 1L8.5 8.5l.94-2.06 2.06-.94-2.06-.94L8.5 2.5l-.94 2.06-2.06.94zm10 10l.94 2.06.94-2.06 2.06-.94-2.06-.94-.94-2.06-.94 2.06-2.06.94z\"/><path d=\"M17.41 7.96l-1.37-1.37c-.4-.4-.92-.59-1.43-.59-.52 0-1.04.2-1.43.59L10.3 9.45l-7.72 7.72c-.78.78-.78 2.05 0 2.83L4 21.41c.39.39.9.59 1.41.59.51 0 1.02-.2 1.41-.59l7.78-7.78 2.81-2.81c.8-.78.8-2.07 0-2.86zM5.41 20L4 18.59l7.72-7.72 1.47 1.35L5.41 20z\"/>\n",
              "  </svg>\n",
              "      </button>\n",
              "      \n",
              "  <style>\n",
              "    .colab-df-container {\n",
              "      display:flex;\n",
              "      flex-wrap:wrap;\n",
              "      gap: 12px;\n",
              "    }\n",
              "\n",
              "    .colab-df-convert {\n",
              "      background-color: #E8F0FE;\n",
              "      border: none;\n",
              "      border-radius: 50%;\n",
              "      cursor: pointer;\n",
              "      display: none;\n",
              "      fill: #1967D2;\n",
              "      height: 32px;\n",
              "      padding: 0 0 0 0;\n",
              "      width: 32px;\n",
              "    }\n",
              "\n",
              "    .colab-df-convert:hover {\n",
              "      background-color: #E2EBFA;\n",
              "      box-shadow: 0px 1px 2px rgba(60, 64, 67, 0.3), 0px 1px 3px 1px rgba(60, 64, 67, 0.15);\n",
              "      fill: #174EA6;\n",
              "    }\n",
              "\n",
              "    [theme=dark] .colab-df-convert {\n",
              "      background-color: #3B4455;\n",
              "      fill: #D2E3FC;\n",
              "    }\n",
              "\n",
              "    [theme=dark] .colab-df-convert:hover {\n",
              "      background-color: #434B5C;\n",
              "      box-shadow: 0px 1px 3px 1px rgba(0, 0, 0, 0.15);\n",
              "      filter: drop-shadow(0px 1px 2px rgba(0, 0, 0, 0.3));\n",
              "      fill: #FFFFFF;\n",
              "    }\n",
              "  </style>\n",
              "\n",
              "      <script>\n",
              "        const buttonEl =\n",
              "          document.querySelector('#df-79820cc7-a479-47f5-ac72-73639525c317 button.colab-df-convert');\n",
              "        buttonEl.style.display =\n",
              "          google.colab.kernel.accessAllowed ? 'block' : 'none';\n",
              "\n",
              "        async function convertToInteractive(key) {\n",
              "          const element = document.querySelector('#df-79820cc7-a479-47f5-ac72-73639525c317');\n",
              "          const dataTable =\n",
              "            await google.colab.kernel.invokeFunction('convertToInteractive',\n",
              "                                                     [key], {});\n",
              "          if (!dataTable) return;\n",
              "\n",
              "          const docLinkHtml = 'Like what you see? Visit the ' +\n",
              "            '<a target=\"_blank\" href=https://colab.research.google.com/notebooks/data_table.ipynb>data table notebook</a>'\n",
              "            + ' to learn more about interactive tables.';\n",
              "          element.innerHTML = '';\n",
              "          dataTable['output_type'] = 'display_data';\n",
              "          await google.colab.output.renderOutput(dataTable, element);\n",
              "          const docLink = document.createElement('div');\n",
              "          docLink.innerHTML = docLinkHtml;\n",
              "          element.appendChild(docLink);\n",
              "        }\n",
              "      </script>\n",
              "    </div>\n",
              "  </div>\n",
              "  "
            ]
          },
          "metadata": {},
          "execution_count": 42
        }
      ],
      "source": [
        "# Load Dataset\n",
        "\n",
        "url = 'http://archive.ics.uci.edu/ml/machine-learning-databases/breast-cancer-wisconsin/wdbc.data'\n",
        "df = pd.read_csv(url, header=None)\n",
        "df.head()"
      ]
    },
    {
      "cell_type": "code",
      "source": [
        "# Memberi nama header atribut atau fitur (karena fitur tidak terlihat maka perlu kita beri nama terlebih dahulu)\n",
        "\n",
        "df.columns = ['id', 'diagnosis', 'fitur 2', 'fitur 3', 'fitur 4', 'fitur 5', 'fitur 6', 'fitur 7', 'fitur 8', 'fitur 9',\n",
        "'fitur 10', 'fitur 11', 'fitur 12', 'fitur 13', 'fitur 14', 'fitur 15', 'fitur 16', 'fitur 17', 'fitur 18', 'fitur 19',\n",
        "'fitur 20', 'fitur 21', 'fitur 22', 'fitur 23', 'fitur 24', 'fitur 25', 'fitur 26', 'fitur 27', 'fitur 28', 'fitur 29',\n",
        "'fitur 30', 'fitur 31']\n",
        "\n",
        "df.head()"
      ],
      "metadata": {
        "colab": {
          "base_uri": "https://localhost:8080/",
          "height": 317
        },
        "id": "RawCFrMVvi4C",
        "outputId": "987d86fd-63e1-41af-9c1e-b16a714f44a3"
      },
      "execution_count": null,
      "outputs": [
        {
          "output_type": "execute_result",
          "data": {
            "text/plain": [
              "         id diagnosis  fitur 2  fitur 3  fitur 4  fitur 5  fitur 6  fitur 7  \\\n",
              "0    842302         M    17.99    10.38      122   1001.0  0.11840  0.27760   \n",
              "1    842517         M    20.57    17.77      132   1326.0  0.08474  0.07864   \n",
              "2  84300903         M    19.69    21.25      130   1203.0  0.10960  0.15990   \n",
              "3  84348301         M    11.42    20.38       77    386.1  0.14250  0.28390   \n",
              "4  84358402         M    20.29    14.34      135   1297.0  0.10030  0.13280   \n",
              "\n",
              "   fitur 8  fitur 9  ...  fitur 22  fitur 23  fitur 24  fitur 25  fitur 26  \\\n",
              "0   0.3001  0.14710  ...     25.38     17.33    184.60    2019.0    0.1622   \n",
              "1   0.0869  0.07017  ...     24.99     23.41    158.80    1956.0    0.1238   \n",
              "2   0.1974  0.12790  ...     23.57     25.53    152.50    1709.0    0.1444   \n",
              "3   0.2414  0.10520  ...     14.91     26.50     98.87     567.7    0.2098   \n",
              "4   0.1980  0.10430  ...     22.54     16.67    152.20    1575.0    0.1374   \n",
              "\n",
              "   fitur 27  fitur 28  fitur 29  fitur 30  fitur 31  \n",
              "0    0.6656    0.7119    0.2654    0.4601         0  \n",
              "1    0.1866    0.2416    0.1860    0.2750         0  \n",
              "2    0.4245    0.4504    0.2430    0.3613         0  \n",
              "3    0.8663    0.6869    0.2575    0.6638         0  \n",
              "4    0.2050    0.4000    0.1625    0.2364         0  \n",
              "\n",
              "[5 rows x 32 columns]"
            ],
            "text/html": [
              "\n",
              "  <div id=\"df-738e7f00-3fee-41a8-aedd-c4c761d6f2a1\">\n",
              "    <div class=\"colab-df-container\">\n",
              "      <div>\n",
              "<style scoped>\n",
              "    .dataframe tbody tr th:only-of-type {\n",
              "        vertical-align: middle;\n",
              "    }\n",
              "\n",
              "    .dataframe tbody tr th {\n",
              "        vertical-align: top;\n",
              "    }\n",
              "\n",
              "    .dataframe thead th {\n",
              "        text-align: right;\n",
              "    }\n",
              "</style>\n",
              "<table border=\"1\" class=\"dataframe\">\n",
              "  <thead>\n",
              "    <tr style=\"text-align: right;\">\n",
              "      <th></th>\n",
              "      <th>id</th>\n",
              "      <th>diagnosis</th>\n",
              "      <th>fitur 2</th>\n",
              "      <th>fitur 3</th>\n",
              "      <th>fitur 4</th>\n",
              "      <th>fitur 5</th>\n",
              "      <th>fitur 6</th>\n",
              "      <th>fitur 7</th>\n",
              "      <th>fitur 8</th>\n",
              "      <th>fitur 9</th>\n",
              "      <th>...</th>\n",
              "      <th>fitur 22</th>\n",
              "      <th>fitur 23</th>\n",
              "      <th>fitur 24</th>\n",
              "      <th>fitur 25</th>\n",
              "      <th>fitur 26</th>\n",
              "      <th>fitur 27</th>\n",
              "      <th>fitur 28</th>\n",
              "      <th>fitur 29</th>\n",
              "      <th>fitur 30</th>\n",
              "      <th>fitur 31</th>\n",
              "    </tr>\n",
              "  </thead>\n",
              "  <tbody>\n",
              "    <tr>\n",
              "      <th>0</th>\n",
              "      <td>842302</td>\n",
              "      <td>M</td>\n",
              "      <td>17.99</td>\n",
              "      <td>10.38</td>\n",
              "      <td>122</td>\n",
              "      <td>1001.0</td>\n",
              "      <td>0.11840</td>\n",
              "      <td>0.27760</td>\n",
              "      <td>0.3001</td>\n",
              "      <td>0.14710</td>\n",
              "      <td>...</td>\n",
              "      <td>25.38</td>\n",
              "      <td>17.33</td>\n",
              "      <td>184.60</td>\n",
              "      <td>2019.0</td>\n",
              "      <td>0.1622</td>\n",
              "      <td>0.6656</td>\n",
              "      <td>0.7119</td>\n",
              "      <td>0.2654</td>\n",
              "      <td>0.4601</td>\n",
              "      <td>0</td>\n",
              "    </tr>\n",
              "    <tr>\n",
              "      <th>1</th>\n",
              "      <td>842517</td>\n",
              "      <td>M</td>\n",
              "      <td>20.57</td>\n",
              "      <td>17.77</td>\n",
              "      <td>132</td>\n",
              "      <td>1326.0</td>\n",
              "      <td>0.08474</td>\n",
              "      <td>0.07864</td>\n",
              "      <td>0.0869</td>\n",
              "      <td>0.07017</td>\n",
              "      <td>...</td>\n",
              "      <td>24.99</td>\n",
              "      <td>23.41</td>\n",
              "      <td>158.80</td>\n",
              "      <td>1956.0</td>\n",
              "      <td>0.1238</td>\n",
              "      <td>0.1866</td>\n",
              "      <td>0.2416</td>\n",
              "      <td>0.1860</td>\n",
              "      <td>0.2750</td>\n",
              "      <td>0</td>\n",
              "    </tr>\n",
              "    <tr>\n",
              "      <th>2</th>\n",
              "      <td>84300903</td>\n",
              "      <td>M</td>\n",
              "      <td>19.69</td>\n",
              "      <td>21.25</td>\n",
              "      <td>130</td>\n",
              "      <td>1203.0</td>\n",
              "      <td>0.10960</td>\n",
              "      <td>0.15990</td>\n",
              "      <td>0.1974</td>\n",
              "      <td>0.12790</td>\n",
              "      <td>...</td>\n",
              "      <td>23.57</td>\n",
              "      <td>25.53</td>\n",
              "      <td>152.50</td>\n",
              "      <td>1709.0</td>\n",
              "      <td>0.1444</td>\n",
              "      <td>0.4245</td>\n",
              "      <td>0.4504</td>\n",
              "      <td>0.2430</td>\n",
              "      <td>0.3613</td>\n",
              "      <td>0</td>\n",
              "    </tr>\n",
              "    <tr>\n",
              "      <th>3</th>\n",
              "      <td>84348301</td>\n",
              "      <td>M</td>\n",
              "      <td>11.42</td>\n",
              "      <td>20.38</td>\n",
              "      <td>77</td>\n",
              "      <td>386.1</td>\n",
              "      <td>0.14250</td>\n",
              "      <td>0.28390</td>\n",
              "      <td>0.2414</td>\n",
              "      <td>0.10520</td>\n",
              "      <td>...</td>\n",
              "      <td>14.91</td>\n",
              "      <td>26.50</td>\n",
              "      <td>98.87</td>\n",
              "      <td>567.7</td>\n",
              "      <td>0.2098</td>\n",
              "      <td>0.8663</td>\n",
              "      <td>0.6869</td>\n",
              "      <td>0.2575</td>\n",
              "      <td>0.6638</td>\n",
              "      <td>0</td>\n",
              "    </tr>\n",
              "    <tr>\n",
              "      <th>4</th>\n",
              "      <td>84358402</td>\n",
              "      <td>M</td>\n",
              "      <td>20.29</td>\n",
              "      <td>14.34</td>\n",
              "      <td>135</td>\n",
              "      <td>1297.0</td>\n",
              "      <td>0.10030</td>\n",
              "      <td>0.13280</td>\n",
              "      <td>0.1980</td>\n",
              "      <td>0.10430</td>\n",
              "      <td>...</td>\n",
              "      <td>22.54</td>\n",
              "      <td>16.67</td>\n",
              "      <td>152.20</td>\n",
              "      <td>1575.0</td>\n",
              "      <td>0.1374</td>\n",
              "      <td>0.2050</td>\n",
              "      <td>0.4000</td>\n",
              "      <td>0.1625</td>\n",
              "      <td>0.2364</td>\n",
              "      <td>0</td>\n",
              "    </tr>\n",
              "  </tbody>\n",
              "</table>\n",
              "<p>5 rows × 32 columns</p>\n",
              "</div>\n",
              "      <button class=\"colab-df-convert\" onclick=\"convertToInteractive('df-738e7f00-3fee-41a8-aedd-c4c761d6f2a1')\"\n",
              "              title=\"Convert this dataframe to an interactive table.\"\n",
              "              style=\"display:none;\">\n",
              "        \n",
              "  <svg xmlns=\"http://www.w3.org/2000/svg\" height=\"24px\"viewBox=\"0 0 24 24\"\n",
              "       width=\"24px\">\n",
              "    <path d=\"M0 0h24v24H0V0z\" fill=\"none\"/>\n",
              "    <path d=\"M18.56 5.44l.94 2.06.94-2.06 2.06-.94-2.06-.94-.94-2.06-.94 2.06-2.06.94zm-11 1L8.5 8.5l.94-2.06 2.06-.94-2.06-.94L8.5 2.5l-.94 2.06-2.06.94zm10 10l.94 2.06.94-2.06 2.06-.94-2.06-.94-.94-2.06-.94 2.06-2.06.94z\"/><path d=\"M17.41 7.96l-1.37-1.37c-.4-.4-.92-.59-1.43-.59-.52 0-1.04.2-1.43.59L10.3 9.45l-7.72 7.72c-.78.78-.78 2.05 0 2.83L4 21.41c.39.39.9.59 1.41.59.51 0 1.02-.2 1.41-.59l7.78-7.78 2.81-2.81c.8-.78.8-2.07 0-2.86zM5.41 20L4 18.59l7.72-7.72 1.47 1.35L5.41 20z\"/>\n",
              "  </svg>\n",
              "      </button>\n",
              "      \n",
              "  <style>\n",
              "    .colab-df-container {\n",
              "      display:flex;\n",
              "      flex-wrap:wrap;\n",
              "      gap: 12px;\n",
              "    }\n",
              "\n",
              "    .colab-df-convert {\n",
              "      background-color: #E8F0FE;\n",
              "      border: none;\n",
              "      border-radius: 50%;\n",
              "      cursor: pointer;\n",
              "      display: none;\n",
              "      fill: #1967D2;\n",
              "      height: 32px;\n",
              "      padding: 0 0 0 0;\n",
              "      width: 32px;\n",
              "    }\n",
              "\n",
              "    .colab-df-convert:hover {\n",
              "      background-color: #E2EBFA;\n",
              "      box-shadow: 0px 1px 2px rgba(60, 64, 67, 0.3), 0px 1px 3px 1px rgba(60, 64, 67, 0.15);\n",
              "      fill: #174EA6;\n",
              "    }\n",
              "\n",
              "    [theme=dark] .colab-df-convert {\n",
              "      background-color: #3B4455;\n",
              "      fill: #D2E3FC;\n",
              "    }\n",
              "\n",
              "    [theme=dark] .colab-df-convert:hover {\n",
              "      background-color: #434B5C;\n",
              "      box-shadow: 0px 1px 3px 1px rgba(0, 0, 0, 0.15);\n",
              "      filter: drop-shadow(0px 1px 2px rgba(0, 0, 0, 0.3));\n",
              "      fill: #FFFFFF;\n",
              "    }\n",
              "  </style>\n",
              "\n",
              "      <script>\n",
              "        const buttonEl =\n",
              "          document.querySelector('#df-738e7f00-3fee-41a8-aedd-c4c761d6f2a1 button.colab-df-convert');\n",
              "        buttonEl.style.display =\n",
              "          google.colab.kernel.accessAllowed ? 'block' : 'none';\n",
              "\n",
              "        async function convertToInteractive(key) {\n",
              "          const element = document.querySelector('#df-738e7f00-3fee-41a8-aedd-c4c761d6f2a1');\n",
              "          const dataTable =\n",
              "            await google.colab.kernel.invokeFunction('convertToInteractive',\n",
              "                                                     [key], {});\n",
              "          if (!dataTable) return;\n",
              "\n",
              "          const docLinkHtml = 'Like what you see? Visit the ' +\n",
              "            '<a target=\"_blank\" href=https://colab.research.google.com/notebooks/data_table.ipynb>data table notebook</a>'\n",
              "            + ' to learn more about interactive tables.';\n",
              "          element.innerHTML = '';\n",
              "          dataTable['output_type'] = 'display_data';\n",
              "          await google.colab.output.renderOutput(dataTable, element);\n",
              "          const docLink = document.createElement('div');\n",
              "          docLink.innerHTML = docLinkHtml;\n",
              "          element.appendChild(docLink);\n",
              "        }\n",
              "      </script>\n",
              "    </div>\n",
              "  </div>\n",
              "  "
            ]
          },
          "metadata": {},
          "execution_count": 72
        }
      ]
    },
    {
      "cell_type": "markdown",
      "source": [
        "# 3) Memvalidasi Data\n",
        "terdiri dari :\n",
        "\n",
        "Merubah fitur yang mempunyai tanda (?) menjadi nilai NaN"
      ],
      "metadata": {
        "id": "zAwbyckHw6xD"
      }
    },
    {
      "cell_type": "code",
      "source": [
        "# Cek dataframe yang missing dengan tanda \"?\"\n",
        "df.head()"
      ],
      "metadata": {
        "colab": {
          "base_uri": "https://localhost:8080/",
          "height": 317
        },
        "id": "pj_pr9ZPw-u6",
        "outputId": "63c84b1e-a40d-4417-9791-fa73b5e4a978"
      },
      "execution_count": null,
      "outputs": [
        {
          "output_type": "execute_result",
          "data": {
            "text/plain": [
              "         id diagnosis  fitur 2  fitur 3  fitur 4  fitur 5  fitur 6  fitur 7  \\\n",
              "0    842302         M    17.99    10.38      122   1001.0  0.11840  0.27760   \n",
              "1    842517         M    20.57    17.77      132   1326.0  0.08474  0.07864   \n",
              "2  84300903         M    19.69    21.25      130   1203.0  0.10960  0.15990   \n",
              "3  84348301         M    11.42    20.38       77    386.1  0.14250  0.28390   \n",
              "4  84358402         M    20.29    14.34      135   1297.0  0.10030  0.13280   \n",
              "\n",
              "   fitur 8  fitur 9  ...  fitur 22  fitur 23  fitur 24  fitur 25  fitur 26  \\\n",
              "0   0.3001  0.14710  ...     25.38     17.33    184.60    2019.0    0.1622   \n",
              "1   0.0869  0.07017  ...     24.99     23.41    158.80    1956.0    0.1238   \n",
              "2   0.1974  0.12790  ...     23.57     25.53    152.50    1709.0    0.1444   \n",
              "3   0.2414  0.10520  ...     14.91     26.50     98.87     567.7    0.2098   \n",
              "4   0.1980  0.10430  ...     22.54     16.67    152.20    1575.0    0.1374   \n",
              "\n",
              "   fitur 27  fitur 28  fitur 29  fitur 30  fitur 31  \n",
              "0    0.6656    0.7119    0.2654    0.4601         0  \n",
              "1    0.1866    0.2416    0.1860    0.2750         0  \n",
              "2    0.4245    0.4504    0.2430    0.3613         0  \n",
              "3    0.8663    0.6869    0.2575    0.6638         0  \n",
              "4    0.2050    0.4000    0.1625    0.2364         0  \n",
              "\n",
              "[5 rows x 32 columns]"
            ],
            "text/html": [
              "\n",
              "  <div id=\"df-ffe95e0e-8df8-4750-8629-e48b9b8a0517\">\n",
              "    <div class=\"colab-df-container\">\n",
              "      <div>\n",
              "<style scoped>\n",
              "    .dataframe tbody tr th:only-of-type {\n",
              "        vertical-align: middle;\n",
              "    }\n",
              "\n",
              "    .dataframe tbody tr th {\n",
              "        vertical-align: top;\n",
              "    }\n",
              "\n",
              "    .dataframe thead th {\n",
              "        text-align: right;\n",
              "    }\n",
              "</style>\n",
              "<table border=\"1\" class=\"dataframe\">\n",
              "  <thead>\n",
              "    <tr style=\"text-align: right;\">\n",
              "      <th></th>\n",
              "      <th>id</th>\n",
              "      <th>diagnosis</th>\n",
              "      <th>fitur 2</th>\n",
              "      <th>fitur 3</th>\n",
              "      <th>fitur 4</th>\n",
              "      <th>fitur 5</th>\n",
              "      <th>fitur 6</th>\n",
              "      <th>fitur 7</th>\n",
              "      <th>fitur 8</th>\n",
              "      <th>fitur 9</th>\n",
              "      <th>...</th>\n",
              "      <th>fitur 22</th>\n",
              "      <th>fitur 23</th>\n",
              "      <th>fitur 24</th>\n",
              "      <th>fitur 25</th>\n",
              "      <th>fitur 26</th>\n",
              "      <th>fitur 27</th>\n",
              "      <th>fitur 28</th>\n",
              "      <th>fitur 29</th>\n",
              "      <th>fitur 30</th>\n",
              "      <th>fitur 31</th>\n",
              "    </tr>\n",
              "  </thead>\n",
              "  <tbody>\n",
              "    <tr>\n",
              "      <th>0</th>\n",
              "      <td>842302</td>\n",
              "      <td>M</td>\n",
              "      <td>17.99</td>\n",
              "      <td>10.38</td>\n",
              "      <td>122</td>\n",
              "      <td>1001.0</td>\n",
              "      <td>0.11840</td>\n",
              "      <td>0.27760</td>\n",
              "      <td>0.3001</td>\n",
              "      <td>0.14710</td>\n",
              "      <td>...</td>\n",
              "      <td>25.38</td>\n",
              "      <td>17.33</td>\n",
              "      <td>184.60</td>\n",
              "      <td>2019.0</td>\n",
              "      <td>0.1622</td>\n",
              "      <td>0.6656</td>\n",
              "      <td>0.7119</td>\n",
              "      <td>0.2654</td>\n",
              "      <td>0.4601</td>\n",
              "      <td>0</td>\n",
              "    </tr>\n",
              "    <tr>\n",
              "      <th>1</th>\n",
              "      <td>842517</td>\n",
              "      <td>M</td>\n",
              "      <td>20.57</td>\n",
              "      <td>17.77</td>\n",
              "      <td>132</td>\n",
              "      <td>1326.0</td>\n",
              "      <td>0.08474</td>\n",
              "      <td>0.07864</td>\n",
              "      <td>0.0869</td>\n",
              "      <td>0.07017</td>\n",
              "      <td>...</td>\n",
              "      <td>24.99</td>\n",
              "      <td>23.41</td>\n",
              "      <td>158.80</td>\n",
              "      <td>1956.0</td>\n",
              "      <td>0.1238</td>\n",
              "      <td>0.1866</td>\n",
              "      <td>0.2416</td>\n",
              "      <td>0.1860</td>\n",
              "      <td>0.2750</td>\n",
              "      <td>0</td>\n",
              "    </tr>\n",
              "    <tr>\n",
              "      <th>2</th>\n",
              "      <td>84300903</td>\n",
              "      <td>M</td>\n",
              "      <td>19.69</td>\n",
              "      <td>21.25</td>\n",
              "      <td>130</td>\n",
              "      <td>1203.0</td>\n",
              "      <td>0.10960</td>\n",
              "      <td>0.15990</td>\n",
              "      <td>0.1974</td>\n",
              "      <td>0.12790</td>\n",
              "      <td>...</td>\n",
              "      <td>23.57</td>\n",
              "      <td>25.53</td>\n",
              "      <td>152.50</td>\n",
              "      <td>1709.0</td>\n",
              "      <td>0.1444</td>\n",
              "      <td>0.4245</td>\n",
              "      <td>0.4504</td>\n",
              "      <td>0.2430</td>\n",
              "      <td>0.3613</td>\n",
              "      <td>0</td>\n",
              "    </tr>\n",
              "    <tr>\n",
              "      <th>3</th>\n",
              "      <td>84348301</td>\n",
              "      <td>M</td>\n",
              "      <td>11.42</td>\n",
              "      <td>20.38</td>\n",
              "      <td>77</td>\n",
              "      <td>386.1</td>\n",
              "      <td>0.14250</td>\n",
              "      <td>0.28390</td>\n",
              "      <td>0.2414</td>\n",
              "      <td>0.10520</td>\n",
              "      <td>...</td>\n",
              "      <td>14.91</td>\n",
              "      <td>26.50</td>\n",
              "      <td>98.87</td>\n",
              "      <td>567.7</td>\n",
              "      <td>0.2098</td>\n",
              "      <td>0.8663</td>\n",
              "      <td>0.6869</td>\n",
              "      <td>0.2575</td>\n",
              "      <td>0.6638</td>\n",
              "      <td>0</td>\n",
              "    </tr>\n",
              "    <tr>\n",
              "      <th>4</th>\n",
              "      <td>84358402</td>\n",
              "      <td>M</td>\n",
              "      <td>20.29</td>\n",
              "      <td>14.34</td>\n",
              "      <td>135</td>\n",
              "      <td>1297.0</td>\n",
              "      <td>0.10030</td>\n",
              "      <td>0.13280</td>\n",
              "      <td>0.1980</td>\n",
              "      <td>0.10430</td>\n",
              "      <td>...</td>\n",
              "      <td>22.54</td>\n",
              "      <td>16.67</td>\n",
              "      <td>152.20</td>\n",
              "      <td>1575.0</td>\n",
              "      <td>0.1374</td>\n",
              "      <td>0.2050</td>\n",
              "      <td>0.4000</td>\n",
              "      <td>0.1625</td>\n",
              "      <td>0.2364</td>\n",
              "      <td>0</td>\n",
              "    </tr>\n",
              "  </tbody>\n",
              "</table>\n",
              "<p>5 rows × 32 columns</p>\n",
              "</div>\n",
              "      <button class=\"colab-df-convert\" onclick=\"convertToInteractive('df-ffe95e0e-8df8-4750-8629-e48b9b8a0517')\"\n",
              "              title=\"Convert this dataframe to an interactive table.\"\n",
              "              style=\"display:none;\">\n",
              "        \n",
              "  <svg xmlns=\"http://www.w3.org/2000/svg\" height=\"24px\"viewBox=\"0 0 24 24\"\n",
              "       width=\"24px\">\n",
              "    <path d=\"M0 0h24v24H0V0z\" fill=\"none\"/>\n",
              "    <path d=\"M18.56 5.44l.94 2.06.94-2.06 2.06-.94-2.06-.94-.94-2.06-.94 2.06-2.06.94zm-11 1L8.5 8.5l.94-2.06 2.06-.94-2.06-.94L8.5 2.5l-.94 2.06-2.06.94zm10 10l.94 2.06.94-2.06 2.06-.94-2.06-.94-.94-2.06-.94 2.06-2.06.94z\"/><path d=\"M17.41 7.96l-1.37-1.37c-.4-.4-.92-.59-1.43-.59-.52 0-1.04.2-1.43.59L10.3 9.45l-7.72 7.72c-.78.78-.78 2.05 0 2.83L4 21.41c.39.39.9.59 1.41.59.51 0 1.02-.2 1.41-.59l7.78-7.78 2.81-2.81c.8-.78.8-2.07 0-2.86zM5.41 20L4 18.59l7.72-7.72 1.47 1.35L5.41 20z\"/>\n",
              "  </svg>\n",
              "      </button>\n",
              "      \n",
              "  <style>\n",
              "    .colab-df-container {\n",
              "      display:flex;\n",
              "      flex-wrap:wrap;\n",
              "      gap: 12px;\n",
              "    }\n",
              "\n",
              "    .colab-df-convert {\n",
              "      background-color: #E8F0FE;\n",
              "      border: none;\n",
              "      border-radius: 50%;\n",
              "      cursor: pointer;\n",
              "      display: none;\n",
              "      fill: #1967D2;\n",
              "      height: 32px;\n",
              "      padding: 0 0 0 0;\n",
              "      width: 32px;\n",
              "    }\n",
              "\n",
              "    .colab-df-convert:hover {\n",
              "      background-color: #E2EBFA;\n",
              "      box-shadow: 0px 1px 2px rgba(60, 64, 67, 0.3), 0px 1px 3px 1px rgba(60, 64, 67, 0.15);\n",
              "      fill: #174EA6;\n",
              "    }\n",
              "\n",
              "    [theme=dark] .colab-df-convert {\n",
              "      background-color: #3B4455;\n",
              "      fill: #D2E3FC;\n",
              "    }\n",
              "\n",
              "    [theme=dark] .colab-df-convert:hover {\n",
              "      background-color: #434B5C;\n",
              "      box-shadow: 0px 1px 3px 1px rgba(0, 0, 0, 0.15);\n",
              "      filter: drop-shadow(0px 1px 2px rgba(0, 0, 0, 0.3));\n",
              "      fill: #FFFFFF;\n",
              "    }\n",
              "  </style>\n",
              "\n",
              "      <script>\n",
              "        const buttonEl =\n",
              "          document.querySelector('#df-ffe95e0e-8df8-4750-8629-e48b9b8a0517 button.colab-df-convert');\n",
              "        buttonEl.style.display =\n",
              "          google.colab.kernel.accessAllowed ? 'block' : 'none';\n",
              "\n",
              "        async function convertToInteractive(key) {\n",
              "          const element = document.querySelector('#df-ffe95e0e-8df8-4750-8629-e48b9b8a0517');\n",
              "          const dataTable =\n",
              "            await google.colab.kernel.invokeFunction('convertToInteractive',\n",
              "                                                     [key], {});\n",
              "          if (!dataTable) return;\n",
              "\n",
              "          const docLinkHtml = 'Like what you see? Visit the ' +\n",
              "            '<a target=\"_blank\" href=https://colab.research.google.com/notebooks/data_table.ipynb>data table notebook</a>'\n",
              "            + ' to learn more about interactive tables.';\n",
              "          element.innerHTML = '';\n",
              "          dataTable['output_type'] = 'display_data';\n",
              "          await google.colab.output.renderOutput(dataTable, element);\n",
              "          const docLink = document.createElement('div');\n",
              "          docLink.innerHTML = docLinkHtml;\n",
              "          element.appendChild(docLink);\n",
              "        }\n",
              "      </script>\n",
              "    </div>\n",
              "  </div>\n",
              "  "
            ]
          },
          "metadata": {},
          "execution_count": 73
        }
      ]
    },
    {
      "cell_type": "code",
      "source": [
        "# Merubah nilai \"?\" menjadi \"NaN\" dengan library numpy.nan\n",
        "df.replace(\"?\", np.nan, inplace=True)"
      ],
      "metadata": {
        "id": "Ijf7jhZbxH6X"
      },
      "execution_count": null,
      "outputs": []
    },
    {
      "cell_type": "code",
      "source": [
        "# Melihat hasil setelah dirubah => semula \"?\" menjadi \"NaN\"\n",
        "df.head()"
      ],
      "metadata": {
        "colab": {
          "base_uri": "https://localhost:8080/",
          "height": 317
        },
        "id": "WpukX0HoxM1y",
        "outputId": "fc917fef-9fc7-4225-995b-f4d566a37212"
      },
      "execution_count": null,
      "outputs": [
        {
          "output_type": "execute_result",
          "data": {
            "text/plain": [
              "         id diagnosis  fitur 2  fitur 3  fitur 4  fitur 5  fitur 6  fitur 7  \\\n",
              "0    842302         M    17.99    10.38      122   1001.0  0.11840  0.27760   \n",
              "1    842517         M    20.57    17.77      132   1326.0  0.08474  0.07864   \n",
              "2  84300903         M    19.69    21.25      130   1203.0  0.10960  0.15990   \n",
              "3  84348301         M    11.42    20.38       77    386.1  0.14250  0.28390   \n",
              "4  84358402         M    20.29    14.34      135   1297.0  0.10030  0.13280   \n",
              "\n",
              "   fitur 8  fitur 9  ...  fitur 22  fitur 23  fitur 24  fitur 25  fitur 26  \\\n",
              "0   0.3001  0.14710  ...     25.38     17.33    184.60    2019.0    0.1622   \n",
              "1   0.0869  0.07017  ...     24.99     23.41    158.80    1956.0    0.1238   \n",
              "2   0.1974  0.12790  ...     23.57     25.53    152.50    1709.0    0.1444   \n",
              "3   0.2414  0.10520  ...     14.91     26.50     98.87     567.7    0.2098   \n",
              "4   0.1980  0.10430  ...     22.54     16.67    152.20    1575.0    0.1374   \n",
              "\n",
              "   fitur 27  fitur 28  fitur 29  fitur 30  fitur 31  \n",
              "0    0.6656    0.7119    0.2654    0.4601         0  \n",
              "1    0.1866    0.2416    0.1860    0.2750         0  \n",
              "2    0.4245    0.4504    0.2430    0.3613         0  \n",
              "3    0.8663    0.6869    0.2575    0.6638         0  \n",
              "4    0.2050    0.4000    0.1625    0.2364         0  \n",
              "\n",
              "[5 rows x 32 columns]"
            ],
            "text/html": [
              "\n",
              "  <div id=\"df-2cd95ed1-748d-4151-8f00-5abc6b0e5dd7\">\n",
              "    <div class=\"colab-df-container\">\n",
              "      <div>\n",
              "<style scoped>\n",
              "    .dataframe tbody tr th:only-of-type {\n",
              "        vertical-align: middle;\n",
              "    }\n",
              "\n",
              "    .dataframe tbody tr th {\n",
              "        vertical-align: top;\n",
              "    }\n",
              "\n",
              "    .dataframe thead th {\n",
              "        text-align: right;\n",
              "    }\n",
              "</style>\n",
              "<table border=\"1\" class=\"dataframe\">\n",
              "  <thead>\n",
              "    <tr style=\"text-align: right;\">\n",
              "      <th></th>\n",
              "      <th>id</th>\n",
              "      <th>diagnosis</th>\n",
              "      <th>fitur 2</th>\n",
              "      <th>fitur 3</th>\n",
              "      <th>fitur 4</th>\n",
              "      <th>fitur 5</th>\n",
              "      <th>fitur 6</th>\n",
              "      <th>fitur 7</th>\n",
              "      <th>fitur 8</th>\n",
              "      <th>fitur 9</th>\n",
              "      <th>...</th>\n",
              "      <th>fitur 22</th>\n",
              "      <th>fitur 23</th>\n",
              "      <th>fitur 24</th>\n",
              "      <th>fitur 25</th>\n",
              "      <th>fitur 26</th>\n",
              "      <th>fitur 27</th>\n",
              "      <th>fitur 28</th>\n",
              "      <th>fitur 29</th>\n",
              "      <th>fitur 30</th>\n",
              "      <th>fitur 31</th>\n",
              "    </tr>\n",
              "  </thead>\n",
              "  <tbody>\n",
              "    <tr>\n",
              "      <th>0</th>\n",
              "      <td>842302</td>\n",
              "      <td>M</td>\n",
              "      <td>17.99</td>\n",
              "      <td>10.38</td>\n",
              "      <td>122</td>\n",
              "      <td>1001.0</td>\n",
              "      <td>0.11840</td>\n",
              "      <td>0.27760</td>\n",
              "      <td>0.3001</td>\n",
              "      <td>0.14710</td>\n",
              "      <td>...</td>\n",
              "      <td>25.38</td>\n",
              "      <td>17.33</td>\n",
              "      <td>184.60</td>\n",
              "      <td>2019.0</td>\n",
              "      <td>0.1622</td>\n",
              "      <td>0.6656</td>\n",
              "      <td>0.7119</td>\n",
              "      <td>0.2654</td>\n",
              "      <td>0.4601</td>\n",
              "      <td>0</td>\n",
              "    </tr>\n",
              "    <tr>\n",
              "      <th>1</th>\n",
              "      <td>842517</td>\n",
              "      <td>M</td>\n",
              "      <td>20.57</td>\n",
              "      <td>17.77</td>\n",
              "      <td>132</td>\n",
              "      <td>1326.0</td>\n",
              "      <td>0.08474</td>\n",
              "      <td>0.07864</td>\n",
              "      <td>0.0869</td>\n",
              "      <td>0.07017</td>\n",
              "      <td>...</td>\n",
              "      <td>24.99</td>\n",
              "      <td>23.41</td>\n",
              "      <td>158.80</td>\n",
              "      <td>1956.0</td>\n",
              "      <td>0.1238</td>\n",
              "      <td>0.1866</td>\n",
              "      <td>0.2416</td>\n",
              "      <td>0.1860</td>\n",
              "      <td>0.2750</td>\n",
              "      <td>0</td>\n",
              "    </tr>\n",
              "    <tr>\n",
              "      <th>2</th>\n",
              "      <td>84300903</td>\n",
              "      <td>M</td>\n",
              "      <td>19.69</td>\n",
              "      <td>21.25</td>\n",
              "      <td>130</td>\n",
              "      <td>1203.0</td>\n",
              "      <td>0.10960</td>\n",
              "      <td>0.15990</td>\n",
              "      <td>0.1974</td>\n",
              "      <td>0.12790</td>\n",
              "      <td>...</td>\n",
              "      <td>23.57</td>\n",
              "      <td>25.53</td>\n",
              "      <td>152.50</td>\n",
              "      <td>1709.0</td>\n",
              "      <td>0.1444</td>\n",
              "      <td>0.4245</td>\n",
              "      <td>0.4504</td>\n",
              "      <td>0.2430</td>\n",
              "      <td>0.3613</td>\n",
              "      <td>0</td>\n",
              "    </tr>\n",
              "    <tr>\n",
              "      <th>3</th>\n",
              "      <td>84348301</td>\n",
              "      <td>M</td>\n",
              "      <td>11.42</td>\n",
              "      <td>20.38</td>\n",
              "      <td>77</td>\n",
              "      <td>386.1</td>\n",
              "      <td>0.14250</td>\n",
              "      <td>0.28390</td>\n",
              "      <td>0.2414</td>\n",
              "      <td>0.10520</td>\n",
              "      <td>...</td>\n",
              "      <td>14.91</td>\n",
              "      <td>26.50</td>\n",
              "      <td>98.87</td>\n",
              "      <td>567.7</td>\n",
              "      <td>0.2098</td>\n",
              "      <td>0.8663</td>\n",
              "      <td>0.6869</td>\n",
              "      <td>0.2575</td>\n",
              "      <td>0.6638</td>\n",
              "      <td>0</td>\n",
              "    </tr>\n",
              "    <tr>\n",
              "      <th>4</th>\n",
              "      <td>84358402</td>\n",
              "      <td>M</td>\n",
              "      <td>20.29</td>\n",
              "      <td>14.34</td>\n",
              "      <td>135</td>\n",
              "      <td>1297.0</td>\n",
              "      <td>0.10030</td>\n",
              "      <td>0.13280</td>\n",
              "      <td>0.1980</td>\n",
              "      <td>0.10430</td>\n",
              "      <td>...</td>\n",
              "      <td>22.54</td>\n",
              "      <td>16.67</td>\n",
              "      <td>152.20</td>\n",
              "      <td>1575.0</td>\n",
              "      <td>0.1374</td>\n",
              "      <td>0.2050</td>\n",
              "      <td>0.4000</td>\n",
              "      <td>0.1625</td>\n",
              "      <td>0.2364</td>\n",
              "      <td>0</td>\n",
              "    </tr>\n",
              "  </tbody>\n",
              "</table>\n",
              "<p>5 rows × 32 columns</p>\n",
              "</div>\n",
              "      <button class=\"colab-df-convert\" onclick=\"convertToInteractive('df-2cd95ed1-748d-4151-8f00-5abc6b0e5dd7')\"\n",
              "              title=\"Convert this dataframe to an interactive table.\"\n",
              "              style=\"display:none;\">\n",
              "        \n",
              "  <svg xmlns=\"http://www.w3.org/2000/svg\" height=\"24px\"viewBox=\"0 0 24 24\"\n",
              "       width=\"24px\">\n",
              "    <path d=\"M0 0h24v24H0V0z\" fill=\"none\"/>\n",
              "    <path d=\"M18.56 5.44l.94 2.06.94-2.06 2.06-.94-2.06-.94-.94-2.06-.94 2.06-2.06.94zm-11 1L8.5 8.5l.94-2.06 2.06-.94-2.06-.94L8.5 2.5l-.94 2.06-2.06.94zm10 10l.94 2.06.94-2.06 2.06-.94-2.06-.94-.94-2.06-.94 2.06-2.06.94z\"/><path d=\"M17.41 7.96l-1.37-1.37c-.4-.4-.92-.59-1.43-.59-.52 0-1.04.2-1.43.59L10.3 9.45l-7.72 7.72c-.78.78-.78 2.05 0 2.83L4 21.41c.39.39.9.59 1.41.59.51 0 1.02-.2 1.41-.59l7.78-7.78 2.81-2.81c.8-.78.8-2.07 0-2.86zM5.41 20L4 18.59l7.72-7.72 1.47 1.35L5.41 20z\"/>\n",
              "  </svg>\n",
              "      </button>\n",
              "      \n",
              "  <style>\n",
              "    .colab-df-container {\n",
              "      display:flex;\n",
              "      flex-wrap:wrap;\n",
              "      gap: 12px;\n",
              "    }\n",
              "\n",
              "    .colab-df-convert {\n",
              "      background-color: #E8F0FE;\n",
              "      border: none;\n",
              "      border-radius: 50%;\n",
              "      cursor: pointer;\n",
              "      display: none;\n",
              "      fill: #1967D2;\n",
              "      height: 32px;\n",
              "      padding: 0 0 0 0;\n",
              "      width: 32px;\n",
              "    }\n",
              "\n",
              "    .colab-df-convert:hover {\n",
              "      background-color: #E2EBFA;\n",
              "      box-shadow: 0px 1px 2px rgba(60, 64, 67, 0.3), 0px 1px 3px 1px rgba(60, 64, 67, 0.15);\n",
              "      fill: #174EA6;\n",
              "    }\n",
              "\n",
              "    [theme=dark] .colab-df-convert {\n",
              "      background-color: #3B4455;\n",
              "      fill: #D2E3FC;\n",
              "    }\n",
              "\n",
              "    [theme=dark] .colab-df-convert:hover {\n",
              "      background-color: #434B5C;\n",
              "      box-shadow: 0px 1px 3px 1px rgba(0, 0, 0, 0.15);\n",
              "      filter: drop-shadow(0px 1px 2px rgba(0, 0, 0, 0.3));\n",
              "      fill: #FFFFFF;\n",
              "    }\n",
              "  </style>\n",
              "\n",
              "      <script>\n",
              "        const buttonEl =\n",
              "          document.querySelector('#df-2cd95ed1-748d-4151-8f00-5abc6b0e5dd7 button.colab-df-convert');\n",
              "        buttonEl.style.display =\n",
              "          google.colab.kernel.accessAllowed ? 'block' : 'none';\n",
              "\n",
              "        async function convertToInteractive(key) {\n",
              "          const element = document.querySelector('#df-2cd95ed1-748d-4151-8f00-5abc6b0e5dd7');\n",
              "          const dataTable =\n",
              "            await google.colab.kernel.invokeFunction('convertToInteractive',\n",
              "                                                     [key], {});\n",
              "          if (!dataTable) return;\n",
              "\n",
              "          const docLinkHtml = 'Like what you see? Visit the ' +\n",
              "            '<a target=\"_blank\" href=https://colab.research.google.com/notebooks/data_table.ipynb>data table notebook</a>'\n",
              "            + ' to learn more about interactive tables.';\n",
              "          element.innerHTML = '';\n",
              "          dataTable['output_type'] = 'display_data';\n",
              "          await google.colab.output.renderOutput(dataTable, element);\n",
              "          const docLink = document.createElement('div');\n",
              "          docLink.innerHTML = docLinkHtml;\n",
              "          element.appendChild(docLink);\n",
              "        }\n",
              "      </script>\n",
              "    </div>\n",
              "  </div>\n",
              "  "
            ]
          },
          "metadata": {},
          "execution_count": 75
        }
      ]
    },
    {
      "cell_type": "code",
      "source": [
        "# Mengecek apakah dataframe ada nilai kosong atau \"NaN\"\n",
        "df.isnull().values.any()"
      ],
      "metadata": {
        "colab": {
          "base_uri": "https://localhost:8080/"
        },
        "id": "ZjPb8u6DxRjo",
        "outputId": "93a79e55-b9aa-4536-f1d8-8ddbc3ed18c5"
      },
      "execution_count": null,
      "outputs": [
        {
          "output_type": "execute_result",
          "data": {
            "text/plain": [
              "False"
            ]
          },
          "metadata": {},
          "execution_count": 76
        }
      ]
    },
    {
      "cell_type": "code",
      "source": [
        "# Melihat lokasi pada kolom dataframe yang kosong atau \"NaN\"\n",
        "df.loc[:, df.isnull().any()].columns"
      ],
      "metadata": {
        "colab": {
          "base_uri": "https://localhost:8080/"
        },
        "id": "23xr88-SxUmP",
        "outputId": "c3139953-25d1-4aa6-f088-f193ab426bb0"
      },
      "execution_count": null,
      "outputs": [
        {
          "output_type": "execute_result",
          "data": {
            "text/plain": [
              "Index([], dtype='object')"
            ]
          },
          "metadata": {},
          "execution_count": 77
        }
      ]
    },
    {
      "cell_type": "code",
      "source": [
        "# Melihat prosentasi dari nilai kosong (NaN) untuk fitur 4 dan fitur 31\n",
        "df.loc[:,list(df.loc[:,df.isnull().any()].columns)].isnull().sum()/(len(df))*100"
      ],
      "metadata": {
        "colab": {
          "base_uri": "https://localhost:8080/"
        },
        "id": "VG9BGD01xe1m",
        "outputId": "bb38d5d9-191d-419b-f30e-7a7680f8330e"
      },
      "execution_count": null,
      "outputs": [
        {
          "output_type": "execute_result",
          "data": {
            "text/plain": [
              "Series([], dtype: float64)"
            ]
          },
          "metadata": {},
          "execution_count": 78
        }
      ]
    },
    {
      "cell_type": "code",
      "source": [],
      "metadata": {
        "id": "0YbnDms4xtrX"
      },
      "execution_count": null,
      "outputs": []
    },
    {
      "cell_type": "code",
      "execution_count": null,
      "metadata": {
        "id": "0ce0d9f3",
        "colab": {
          "base_uri": "https://localhost:8080/",
          "height": 424
        },
        "outputId": "f6a42860-535f-44ed-e478-632abcfe9ac3"
      },
      "outputs": [
        {
          "output_type": "execute_result",
          "data": {
            "text/plain": [
              "     fitur 4  fitur 31\n",
              "0        122         0\n",
              "1        132         0\n",
              "2        130         0\n",
              "3         77         0\n",
              "4        135         0\n",
              "..       ...       ...\n",
              "564      142         0\n",
              "565      131         0\n",
              "566      108         0\n",
              "567      140         0\n",
              "568       47         0\n",
              "\n",
              "[569 rows x 2 columns]"
            ],
            "text/html": [
              "\n",
              "  <div id=\"df-60121af4-ebe7-455d-8d80-0d9eb38cc92f\">\n",
              "    <div class=\"colab-df-container\">\n",
              "      <div>\n",
              "<style scoped>\n",
              "    .dataframe tbody tr th:only-of-type {\n",
              "        vertical-align: middle;\n",
              "    }\n",
              "\n",
              "    .dataframe tbody tr th {\n",
              "        vertical-align: top;\n",
              "    }\n",
              "\n",
              "    .dataframe thead th {\n",
              "        text-align: right;\n",
              "    }\n",
              "</style>\n",
              "<table border=\"1\" class=\"dataframe\">\n",
              "  <thead>\n",
              "    <tr style=\"text-align: right;\">\n",
              "      <th></th>\n",
              "      <th>fitur 4</th>\n",
              "      <th>fitur 31</th>\n",
              "    </tr>\n",
              "  </thead>\n",
              "  <tbody>\n",
              "    <tr>\n",
              "      <th>0</th>\n",
              "      <td>122</td>\n",
              "      <td>0</td>\n",
              "    </tr>\n",
              "    <tr>\n",
              "      <th>1</th>\n",
              "      <td>132</td>\n",
              "      <td>0</td>\n",
              "    </tr>\n",
              "    <tr>\n",
              "      <th>2</th>\n",
              "      <td>130</td>\n",
              "      <td>0</td>\n",
              "    </tr>\n",
              "    <tr>\n",
              "      <th>3</th>\n",
              "      <td>77</td>\n",
              "      <td>0</td>\n",
              "    </tr>\n",
              "    <tr>\n",
              "      <th>4</th>\n",
              "      <td>135</td>\n",
              "      <td>0</td>\n",
              "    </tr>\n",
              "    <tr>\n",
              "      <th>...</th>\n",
              "      <td>...</td>\n",
              "      <td>...</td>\n",
              "    </tr>\n",
              "    <tr>\n",
              "      <th>564</th>\n",
              "      <td>142</td>\n",
              "      <td>0</td>\n",
              "    </tr>\n",
              "    <tr>\n",
              "      <th>565</th>\n",
              "      <td>131</td>\n",
              "      <td>0</td>\n",
              "    </tr>\n",
              "    <tr>\n",
              "      <th>566</th>\n",
              "      <td>108</td>\n",
              "      <td>0</td>\n",
              "    </tr>\n",
              "    <tr>\n",
              "      <th>567</th>\n",
              "      <td>140</td>\n",
              "      <td>0</td>\n",
              "    </tr>\n",
              "    <tr>\n",
              "      <th>568</th>\n",
              "      <td>47</td>\n",
              "      <td>0</td>\n",
              "    </tr>\n",
              "  </tbody>\n",
              "</table>\n",
              "<p>569 rows × 2 columns</p>\n",
              "</div>\n",
              "      <button class=\"colab-df-convert\" onclick=\"convertToInteractive('df-60121af4-ebe7-455d-8d80-0d9eb38cc92f')\"\n",
              "              title=\"Convert this dataframe to an interactive table.\"\n",
              "              style=\"display:none;\">\n",
              "        \n",
              "  <svg xmlns=\"http://www.w3.org/2000/svg\" height=\"24px\"viewBox=\"0 0 24 24\"\n",
              "       width=\"24px\">\n",
              "    <path d=\"M0 0h24v24H0V0z\" fill=\"none\"/>\n",
              "    <path d=\"M18.56 5.44l.94 2.06.94-2.06 2.06-.94-2.06-.94-.94-2.06-.94 2.06-2.06.94zm-11 1L8.5 8.5l.94-2.06 2.06-.94-2.06-.94L8.5 2.5l-.94 2.06-2.06.94zm10 10l.94 2.06.94-2.06 2.06-.94-2.06-.94-.94-2.06-.94 2.06-2.06.94z\"/><path d=\"M17.41 7.96l-1.37-1.37c-.4-.4-.92-.59-1.43-.59-.52 0-1.04.2-1.43.59L10.3 9.45l-7.72 7.72c-.78.78-.78 2.05 0 2.83L4 21.41c.39.39.9.59 1.41.59.51 0 1.02-.2 1.41-.59l7.78-7.78 2.81-2.81c.8-.78.8-2.07 0-2.86zM5.41 20L4 18.59l7.72-7.72 1.47 1.35L5.41 20z\"/>\n",
              "  </svg>\n",
              "      </button>\n",
              "      \n",
              "  <style>\n",
              "    .colab-df-container {\n",
              "      display:flex;\n",
              "      flex-wrap:wrap;\n",
              "      gap: 12px;\n",
              "    }\n",
              "\n",
              "    .colab-df-convert {\n",
              "      background-color: #E8F0FE;\n",
              "      border: none;\n",
              "      border-radius: 50%;\n",
              "      cursor: pointer;\n",
              "      display: none;\n",
              "      fill: #1967D2;\n",
              "      height: 32px;\n",
              "      padding: 0 0 0 0;\n",
              "      width: 32px;\n",
              "    }\n",
              "\n",
              "    .colab-df-convert:hover {\n",
              "      background-color: #E2EBFA;\n",
              "      box-shadow: 0px 1px 2px rgba(60, 64, 67, 0.3), 0px 1px 3px 1px rgba(60, 64, 67, 0.15);\n",
              "      fill: #174EA6;\n",
              "    }\n",
              "\n",
              "    [theme=dark] .colab-df-convert {\n",
              "      background-color: #3B4455;\n",
              "      fill: #D2E3FC;\n",
              "    }\n",
              "\n",
              "    [theme=dark] .colab-df-convert:hover {\n",
              "      background-color: #434B5C;\n",
              "      box-shadow: 0px 1px 3px 1px rgba(0, 0, 0, 0.15);\n",
              "      filter: drop-shadow(0px 1px 2px rgba(0, 0, 0, 0.3));\n",
              "      fill: #FFFFFF;\n",
              "    }\n",
              "  </style>\n",
              "\n",
              "      <script>\n",
              "        const buttonEl =\n",
              "          document.querySelector('#df-60121af4-ebe7-455d-8d80-0d9eb38cc92f button.colab-df-convert');\n",
              "        buttonEl.style.display =\n",
              "          google.colab.kernel.accessAllowed ? 'block' : 'none';\n",
              "\n",
              "        async function convertToInteractive(key) {\n",
              "          const element = document.querySelector('#df-60121af4-ebe7-455d-8d80-0d9eb38cc92f');\n",
              "          const dataTable =\n",
              "            await google.colab.kernel.invokeFunction('convertToInteractive',\n",
              "                                                     [key], {});\n",
              "          if (!dataTable) return;\n",
              "\n",
              "          const docLinkHtml = 'Like what you see? Visit the ' +\n",
              "            '<a target=\"_blank\" href=https://colab.research.google.com/notebooks/data_table.ipynb>data table notebook</a>'\n",
              "            + ' to learn more about interactive tables.';\n",
              "          element.innerHTML = '';\n",
              "          dataTable['output_type'] = 'display_data';\n",
              "          await google.colab.output.renderOutput(dataTable, element);\n",
              "          const docLink = document.createElement('div');\n",
              "          docLink.innerHTML = docLinkHtml;\n",
              "          element.appendChild(docLink);\n",
              "        }\n",
              "      </script>\n",
              "    </div>\n",
              "  </div>\n",
              "  "
            ]
          },
          "metadata": {},
          "execution_count": 79
        }
      ],
      "source": [
        "# Gunakan Replace Missing Values untuk Fitur 4 dan Fitur 31\n",
        "df[['fitur 4', 'fitur 31']]"
      ]
    },
    {
      "cell_type": "markdown",
      "source": [
        "# 4) Menentukan Objek Data\n"
      ],
      "metadata": {
        "id": "XgtYRwWRyCiY"
      }
    },
    {
      "cell_type": "markdown",
      "source": [
        "# 5) Membersihkan Data\n",
        "Strategi pembersihan data :\n",
        "\n",
        "Perbaiki nilai yang hilang.\n",
        "Hapus data duplikat.\n",
        "Cek fitur yang bernilai konstant."
      ],
      "metadata": {
        "id": "iL1DIeboyIMo"
      }
    },
    {
      "cell_type": "code",
      "source": [
        "# Memperbaiki nilai yang hilang\n",
        "# Visualisasi data nilai yang hilang\n",
        "missingdata_df = df.columns[df.isnull().any()].tolist()"
      ],
      "metadata": {
        "id": "JSC2GG0kyO1Q"
      },
      "execution_count": null,
      "outputs": []
    },
    {
      "cell_type": "code",
      "source": [
        "# Memperbaiki nilai yang hilang dengan nilai rata-rata (median) => fillna : untuk mengisi nilai yang kosong\n",
        "median_value = df['fitur 4'].median()\n",
        "df['fitur 4']=df['fitur 4'].fillna(median_value)\n",
        "\n",
        "median_value = df['fitur 31'].median()\n",
        "df['fitur 31']=df['fitur 31'].fillna(median_value)"
      ],
      "metadata": {
        "id": "VrOLcgPnzEM4"
      },
      "execution_count": null,
      "outputs": []
    },
    {
      "cell_type": "code",
      "source": [
        "# Melihat kembali prosentasi dari nilai kosong (NaN) untuk fitur 4 dan fitur 31 setelah dibersihkan\n",
        "df.loc[:,list(df.loc[:,df.isnull().any()].columns)].isnull().sum()/(len(df))*100"
      ],
      "metadata": {
        "colab": {
          "base_uri": "https://localhost:8080/"
        },
        "id": "MwXQdhkEzT3s",
        "outputId": "4d983a22-f00b-415b-f47e-16aa5c0bd435"
      },
      "execution_count": null,
      "outputs": [
        {
          "output_type": "execute_result",
          "data": {
            "text/plain": [
              "Series([], dtype: float64)"
            ]
          },
          "metadata": {},
          "execution_count": 82
        }
      ]
    },
    {
      "cell_type": "markdown",
      "source": [
        "Dataset sudah bersih karena tidak ada nilai null"
      ],
      "metadata": {
        "id": "59BUEFO6zb2h"
      }
    },
    {
      "cell_type": "code",
      "source": [
        "# Menghapus Data Duplikat\n",
        "# Melihat ukuran baris dan kolom dataframe\n",
        "df.shape"
      ],
      "metadata": {
        "colab": {
          "base_uri": "https://localhost:8080/"
        },
        "id": "7RD4JQgbzgNp",
        "outputId": "80713744-d45e-4690-fbc8-5966e574857a"
      },
      "execution_count": null,
      "outputs": [
        {
          "output_type": "execute_result",
          "data": {
            "text/plain": [
              "(569, 32)"
            ]
          },
          "metadata": {},
          "execution_count": 83
        }
      ]
    },
    {
      "cell_type": "code",
      "source": [
        "# Menghapus Data Duplikat dan melihat kembali ukuran baris & kolom dataframe\n",
        "df = df.drop_duplicates()\n",
        "df.shape"
      ],
      "metadata": {
        "colab": {
          "base_uri": "https://localhost:8080/"
        },
        "id": "v5SOAdApzlhe",
        "outputId": "10812875-f03e-4ec1-f9b0-a623978875ac"
      },
      "execution_count": null,
      "outputs": [
        {
          "output_type": "execute_result",
          "data": {
            "text/plain": [
              "(569, 32)"
            ]
          },
          "metadata": {},
          "execution_count": 84
        }
      ]
    },
    {
      "cell_type": "markdown",
      "source": [
        "Tidak ada data yang sama"
      ],
      "metadata": {
        "id": "JJafVzqKzu-5"
      }
    },
    {
      "cell_type": "code",
      "source": [
        "# Menghapus fitur yang bernilai konstant\n",
        "df = df.loc[:, df.apply(pd.Series.nunique) !=1]\n",
        "\n",
        "df.shape"
      ],
      "metadata": {
        "colab": {
          "base_uri": "https://localhost:8080/"
        },
        "id": "1IynJli0zxiI",
        "outputId": "137bb205-3cb0-46b1-9c89-97b9cc79bd61"
      },
      "execution_count": null,
      "outputs": [
        {
          "output_type": "execute_result",
          "data": {
            "text/plain": [
              "(569, 31)"
            ]
          },
          "metadata": {},
          "execution_count": 85
        }
      ]
    },
    {
      "cell_type": "markdown",
      "source": [
        "Tidak ada fitur yang bernilai konstan"
      ],
      "metadata": {
        "id": "s5TGQjSez44p"
      }
    },
    {
      "cell_type": "markdown",
      "source": [
        "# 6) Mengkonstruksi Data\n",
        "terdiri dari :\n",
        "\n",
        "- Representasi fitur dan merubah tipenya.\n",
        "- Membagi data menjadi training dan testing.\n",
        "- Membandingkan Data Original, Data Normalisasi, Data Original PCA, Data Normalisasi PCA"
      ],
      "metadata": {
        "id": "6EISsE3v0GG7"
      }
    },
    {
      "cell_type": "code",
      "source": [
        "# Mengecek Representasi Fitur\n",
        "df.info()"
      ],
      "metadata": {
        "colab": {
          "base_uri": "https://localhost:8080/"
        },
        "id": "xMXHgmvC0Wp3",
        "outputId": "77a7f975-c72c-444b-d49e-10b5d5387ff9"
      },
      "execution_count": null,
      "outputs": [
        {
          "output_type": "stream",
          "name": "stdout",
          "text": [
            "<class 'pandas.core.frame.DataFrame'>\n",
            "Int64Index: 569 entries, 0 to 568\n",
            "Data columns (total 31 columns):\n",
            " #   Column     Non-Null Count  Dtype  \n",
            "---  ------     --------------  -----  \n",
            " 0   id         569 non-null    int64  \n",
            " 1   diagnosis  569 non-null    object \n",
            " 2   fitur 2    569 non-null    float64\n",
            " 3   fitur 3    569 non-null    float64\n",
            " 4   fitur 4    569 non-null    int64  \n",
            " 5   fitur 5    569 non-null    float64\n",
            " 6   fitur 6    569 non-null    float64\n",
            " 7   fitur 7    569 non-null    float64\n",
            " 8   fitur 8    569 non-null    float64\n",
            " 9   fitur 9    569 non-null    float64\n",
            " 10  fitur 10   569 non-null    float64\n",
            " 11  fitur 11   569 non-null    float64\n",
            " 12  fitur 12   569 non-null    float64\n",
            " 13  fitur 13   569 non-null    float64\n",
            " 14  fitur 14   569 non-null    float64\n",
            " 15  fitur 15   569 non-null    float64\n",
            " 16  fitur 16   569 non-null    float64\n",
            " 17  fitur 17   569 non-null    float64\n",
            " 18  fitur 18   569 non-null    float64\n",
            " 19  fitur 19   569 non-null    float64\n",
            " 20  fitur 20   569 non-null    float64\n",
            " 21  fitur 21   569 non-null    float64\n",
            " 22  fitur 22   569 non-null    float64\n",
            " 23  fitur 23   569 non-null    float64\n",
            " 24  fitur 24   569 non-null    float64\n",
            " 25  fitur 25   569 non-null    float64\n",
            " 26  fitur 26   569 non-null    float64\n",
            " 27  fitur 27   569 non-null    float64\n",
            " 28  fitur 28   569 non-null    float64\n",
            " 29  fitur 29   569 non-null    float64\n",
            " 30  fitur 30   569 non-null    float64\n",
            "dtypes: float64(28), int64(2), object(1)\n",
            "memory usage: 142.2+ KB\n"
          ]
        }
      ]
    },
    {
      "cell_type": "code",
      "source": [
        "# Mengubah yang tipe Object menjadi int64\n",
        "df['diagnosis'] = pd.factorize(df.diagnosis)[0]"
      ],
      "metadata": {
        "id": "MHU4ftMn0HFR"
      },
      "execution_count": null,
      "outputs": []
    },
    {
      "cell_type": "code",
      "source": [
        "# Cek kembali Representasi Fitur\n",
        "df.info()"
      ],
      "metadata": {
        "colab": {
          "base_uri": "https://localhost:8080/"
        },
        "id": "A_Ot0J5I0n4I",
        "outputId": "c0b78fe1-df19-48c8-e410-2f15d6d3a134"
      },
      "execution_count": null,
      "outputs": [
        {
          "output_type": "stream",
          "name": "stdout",
          "text": [
            "<class 'pandas.core.frame.DataFrame'>\n",
            "Int64Index: 569 entries, 0 to 568\n",
            "Data columns (total 31 columns):\n",
            " #   Column     Non-Null Count  Dtype  \n",
            "---  ------     --------------  -----  \n",
            " 0   id         569 non-null    int64  \n",
            " 1   diagnosis  569 non-null    int64  \n",
            " 2   fitur 2    569 non-null    float64\n",
            " 3   fitur 3    569 non-null    float64\n",
            " 4   fitur 4    569 non-null    int64  \n",
            " 5   fitur 5    569 non-null    float64\n",
            " 6   fitur 6    569 non-null    float64\n",
            " 7   fitur 7    569 non-null    float64\n",
            " 8   fitur 8    569 non-null    float64\n",
            " 9   fitur 9    569 non-null    float64\n",
            " 10  fitur 10   569 non-null    float64\n",
            " 11  fitur 11   569 non-null    float64\n",
            " 12  fitur 12   569 non-null    float64\n",
            " 13  fitur 13   569 non-null    float64\n",
            " 14  fitur 14   569 non-null    float64\n",
            " 15  fitur 15   569 non-null    float64\n",
            " 16  fitur 16   569 non-null    float64\n",
            " 17  fitur 17   569 non-null    float64\n",
            " 18  fitur 18   569 non-null    float64\n",
            " 19  fitur 19   569 non-null    float64\n",
            " 20  fitur 20   569 non-null    float64\n",
            " 21  fitur 21   569 non-null    float64\n",
            " 22  fitur 22   569 non-null    float64\n",
            " 23  fitur 23   569 non-null    float64\n",
            " 24  fitur 24   569 non-null    float64\n",
            " 25  fitur 25   569 non-null    float64\n",
            " 26  fitur 26   569 non-null    float64\n",
            " 27  fitur 27   569 non-null    float64\n",
            " 28  fitur 28   569 non-null    float64\n",
            " 29  fitur 29   569 non-null    float64\n",
            " 30  fitur 30   569 non-null    float64\n",
            "dtypes: float64(28), int64(3)\n",
            "memory usage: 142.2 KB\n"
          ]
        }
      ]
    },
    {
      "cell_type": "code",
      "source": [
        "# Membagi Training dan Testing\n",
        "X = df.iloc[:,1:32]\n",
        "y = df['diagnosis']\n",
        "\n",
        "# Menampilkan X\n",
        "X.head()"
      ],
      "metadata": {
        "colab": {
          "base_uri": "https://localhost:8080/",
          "height": 317
        },
        "id": "cwqok0BO0qFA",
        "outputId": "9ca11c43-aafc-43af-b790-8a4332c61b4d"
      },
      "execution_count": null,
      "outputs": [
        {
          "output_type": "execute_result",
          "data": {
            "text/plain": [
              "   diagnosis  fitur 2  fitur 3  fitur 4  fitur 5  fitur 6  fitur 7  fitur 8  \\\n",
              "0          0    17.99    10.38      122   1001.0  0.11840  0.27760   0.3001   \n",
              "1          0    20.57    17.77      132   1326.0  0.08474  0.07864   0.0869   \n",
              "2          0    19.69    21.25      130   1203.0  0.10960  0.15990   0.1974   \n",
              "3          0    11.42    20.38       77    386.1  0.14250  0.28390   0.2414   \n",
              "4          0    20.29    14.34      135   1297.0  0.10030  0.13280   0.1980   \n",
              "\n",
              "   fitur 9  fitur 10  ...  fitur 21  fitur 22  fitur 23  fitur 24  fitur 25  \\\n",
              "0  0.14710    0.2419  ...  0.006193     25.38     17.33    184.60    2019.0   \n",
              "1  0.07017    0.1812  ...  0.003532     24.99     23.41    158.80    1956.0   \n",
              "2  0.12790    0.2069  ...  0.004571     23.57     25.53    152.50    1709.0   \n",
              "3  0.10520    0.2597  ...  0.009208     14.91     26.50     98.87     567.7   \n",
              "4  0.10430    0.1809  ...  0.005115     22.54     16.67    152.20    1575.0   \n",
              "\n",
              "   fitur 26  fitur 27  fitur 28  fitur 29  fitur 30  \n",
              "0    0.1622    0.6656    0.7119    0.2654    0.4601  \n",
              "1    0.1238    0.1866    0.2416    0.1860    0.2750  \n",
              "2    0.1444    0.4245    0.4504    0.2430    0.3613  \n",
              "3    0.2098    0.8663    0.6869    0.2575    0.6638  \n",
              "4    0.1374    0.2050    0.4000    0.1625    0.2364  \n",
              "\n",
              "[5 rows x 30 columns]"
            ],
            "text/html": [
              "\n",
              "  <div id=\"df-041d12d4-3c43-4622-944e-f3f0a7f17b65\">\n",
              "    <div class=\"colab-df-container\">\n",
              "      <div>\n",
              "<style scoped>\n",
              "    .dataframe tbody tr th:only-of-type {\n",
              "        vertical-align: middle;\n",
              "    }\n",
              "\n",
              "    .dataframe tbody tr th {\n",
              "        vertical-align: top;\n",
              "    }\n",
              "\n",
              "    .dataframe thead th {\n",
              "        text-align: right;\n",
              "    }\n",
              "</style>\n",
              "<table border=\"1\" class=\"dataframe\">\n",
              "  <thead>\n",
              "    <tr style=\"text-align: right;\">\n",
              "      <th></th>\n",
              "      <th>diagnosis</th>\n",
              "      <th>fitur 2</th>\n",
              "      <th>fitur 3</th>\n",
              "      <th>fitur 4</th>\n",
              "      <th>fitur 5</th>\n",
              "      <th>fitur 6</th>\n",
              "      <th>fitur 7</th>\n",
              "      <th>fitur 8</th>\n",
              "      <th>fitur 9</th>\n",
              "      <th>fitur 10</th>\n",
              "      <th>...</th>\n",
              "      <th>fitur 21</th>\n",
              "      <th>fitur 22</th>\n",
              "      <th>fitur 23</th>\n",
              "      <th>fitur 24</th>\n",
              "      <th>fitur 25</th>\n",
              "      <th>fitur 26</th>\n",
              "      <th>fitur 27</th>\n",
              "      <th>fitur 28</th>\n",
              "      <th>fitur 29</th>\n",
              "      <th>fitur 30</th>\n",
              "    </tr>\n",
              "  </thead>\n",
              "  <tbody>\n",
              "    <tr>\n",
              "      <th>0</th>\n",
              "      <td>0</td>\n",
              "      <td>17.99</td>\n",
              "      <td>10.38</td>\n",
              "      <td>122</td>\n",
              "      <td>1001.0</td>\n",
              "      <td>0.11840</td>\n",
              "      <td>0.27760</td>\n",
              "      <td>0.3001</td>\n",
              "      <td>0.14710</td>\n",
              "      <td>0.2419</td>\n",
              "      <td>...</td>\n",
              "      <td>0.006193</td>\n",
              "      <td>25.38</td>\n",
              "      <td>17.33</td>\n",
              "      <td>184.60</td>\n",
              "      <td>2019.0</td>\n",
              "      <td>0.1622</td>\n",
              "      <td>0.6656</td>\n",
              "      <td>0.7119</td>\n",
              "      <td>0.2654</td>\n",
              "      <td>0.4601</td>\n",
              "    </tr>\n",
              "    <tr>\n",
              "      <th>1</th>\n",
              "      <td>0</td>\n",
              "      <td>20.57</td>\n",
              "      <td>17.77</td>\n",
              "      <td>132</td>\n",
              "      <td>1326.0</td>\n",
              "      <td>0.08474</td>\n",
              "      <td>0.07864</td>\n",
              "      <td>0.0869</td>\n",
              "      <td>0.07017</td>\n",
              "      <td>0.1812</td>\n",
              "      <td>...</td>\n",
              "      <td>0.003532</td>\n",
              "      <td>24.99</td>\n",
              "      <td>23.41</td>\n",
              "      <td>158.80</td>\n",
              "      <td>1956.0</td>\n",
              "      <td>0.1238</td>\n",
              "      <td>0.1866</td>\n",
              "      <td>0.2416</td>\n",
              "      <td>0.1860</td>\n",
              "      <td>0.2750</td>\n",
              "    </tr>\n",
              "    <tr>\n",
              "      <th>2</th>\n",
              "      <td>0</td>\n",
              "      <td>19.69</td>\n",
              "      <td>21.25</td>\n",
              "      <td>130</td>\n",
              "      <td>1203.0</td>\n",
              "      <td>0.10960</td>\n",
              "      <td>0.15990</td>\n",
              "      <td>0.1974</td>\n",
              "      <td>0.12790</td>\n",
              "      <td>0.2069</td>\n",
              "      <td>...</td>\n",
              "      <td>0.004571</td>\n",
              "      <td>23.57</td>\n",
              "      <td>25.53</td>\n",
              "      <td>152.50</td>\n",
              "      <td>1709.0</td>\n",
              "      <td>0.1444</td>\n",
              "      <td>0.4245</td>\n",
              "      <td>0.4504</td>\n",
              "      <td>0.2430</td>\n",
              "      <td>0.3613</td>\n",
              "    </tr>\n",
              "    <tr>\n",
              "      <th>3</th>\n",
              "      <td>0</td>\n",
              "      <td>11.42</td>\n",
              "      <td>20.38</td>\n",
              "      <td>77</td>\n",
              "      <td>386.1</td>\n",
              "      <td>0.14250</td>\n",
              "      <td>0.28390</td>\n",
              "      <td>0.2414</td>\n",
              "      <td>0.10520</td>\n",
              "      <td>0.2597</td>\n",
              "      <td>...</td>\n",
              "      <td>0.009208</td>\n",
              "      <td>14.91</td>\n",
              "      <td>26.50</td>\n",
              "      <td>98.87</td>\n",
              "      <td>567.7</td>\n",
              "      <td>0.2098</td>\n",
              "      <td>0.8663</td>\n",
              "      <td>0.6869</td>\n",
              "      <td>0.2575</td>\n",
              "      <td>0.6638</td>\n",
              "    </tr>\n",
              "    <tr>\n",
              "      <th>4</th>\n",
              "      <td>0</td>\n",
              "      <td>20.29</td>\n",
              "      <td>14.34</td>\n",
              "      <td>135</td>\n",
              "      <td>1297.0</td>\n",
              "      <td>0.10030</td>\n",
              "      <td>0.13280</td>\n",
              "      <td>0.1980</td>\n",
              "      <td>0.10430</td>\n",
              "      <td>0.1809</td>\n",
              "      <td>...</td>\n",
              "      <td>0.005115</td>\n",
              "      <td>22.54</td>\n",
              "      <td>16.67</td>\n",
              "      <td>152.20</td>\n",
              "      <td>1575.0</td>\n",
              "      <td>0.1374</td>\n",
              "      <td>0.2050</td>\n",
              "      <td>0.4000</td>\n",
              "      <td>0.1625</td>\n",
              "      <td>0.2364</td>\n",
              "    </tr>\n",
              "  </tbody>\n",
              "</table>\n",
              "<p>5 rows × 30 columns</p>\n",
              "</div>\n",
              "      <button class=\"colab-df-convert\" onclick=\"convertToInteractive('df-041d12d4-3c43-4622-944e-f3f0a7f17b65')\"\n",
              "              title=\"Convert this dataframe to an interactive table.\"\n",
              "              style=\"display:none;\">\n",
              "        \n",
              "  <svg xmlns=\"http://www.w3.org/2000/svg\" height=\"24px\"viewBox=\"0 0 24 24\"\n",
              "       width=\"24px\">\n",
              "    <path d=\"M0 0h24v24H0V0z\" fill=\"none\"/>\n",
              "    <path d=\"M18.56 5.44l.94 2.06.94-2.06 2.06-.94-2.06-.94-.94-2.06-.94 2.06-2.06.94zm-11 1L8.5 8.5l.94-2.06 2.06-.94-2.06-.94L8.5 2.5l-.94 2.06-2.06.94zm10 10l.94 2.06.94-2.06 2.06-.94-2.06-.94-.94-2.06-.94 2.06-2.06.94z\"/><path d=\"M17.41 7.96l-1.37-1.37c-.4-.4-.92-.59-1.43-.59-.52 0-1.04.2-1.43.59L10.3 9.45l-7.72 7.72c-.78.78-.78 2.05 0 2.83L4 21.41c.39.39.9.59 1.41.59.51 0 1.02-.2 1.41-.59l7.78-7.78 2.81-2.81c.8-.78.8-2.07 0-2.86zM5.41 20L4 18.59l7.72-7.72 1.47 1.35L5.41 20z\"/>\n",
              "  </svg>\n",
              "      </button>\n",
              "      \n",
              "  <style>\n",
              "    .colab-df-container {\n",
              "      display:flex;\n",
              "      flex-wrap:wrap;\n",
              "      gap: 12px;\n",
              "    }\n",
              "\n",
              "    .colab-df-convert {\n",
              "      background-color: #E8F0FE;\n",
              "      border: none;\n",
              "      border-radius: 50%;\n",
              "      cursor: pointer;\n",
              "      display: none;\n",
              "      fill: #1967D2;\n",
              "      height: 32px;\n",
              "      padding: 0 0 0 0;\n",
              "      width: 32px;\n",
              "    }\n",
              "\n",
              "    .colab-df-convert:hover {\n",
              "      background-color: #E2EBFA;\n",
              "      box-shadow: 0px 1px 2px rgba(60, 64, 67, 0.3), 0px 1px 3px 1px rgba(60, 64, 67, 0.15);\n",
              "      fill: #174EA6;\n",
              "    }\n",
              "\n",
              "    [theme=dark] .colab-df-convert {\n",
              "      background-color: #3B4455;\n",
              "      fill: #D2E3FC;\n",
              "    }\n",
              "\n",
              "    [theme=dark] .colab-df-convert:hover {\n",
              "      background-color: #434B5C;\n",
              "      box-shadow: 0px 1px 3px 1px rgba(0, 0, 0, 0.15);\n",
              "      filter: drop-shadow(0px 1px 2px rgba(0, 0, 0, 0.3));\n",
              "      fill: #FFFFFF;\n",
              "    }\n",
              "  </style>\n",
              "\n",
              "      <script>\n",
              "        const buttonEl =\n",
              "          document.querySelector('#df-041d12d4-3c43-4622-944e-f3f0a7f17b65 button.colab-df-convert');\n",
              "        buttonEl.style.display =\n",
              "          google.colab.kernel.accessAllowed ? 'block' : 'none';\n",
              "\n",
              "        async function convertToInteractive(key) {\n",
              "          const element = document.querySelector('#df-041d12d4-3c43-4622-944e-f3f0a7f17b65');\n",
              "          const dataTable =\n",
              "            await google.colab.kernel.invokeFunction('convertToInteractive',\n",
              "                                                     [key], {});\n",
              "          if (!dataTable) return;\n",
              "\n",
              "          const docLinkHtml = 'Like what you see? Visit the ' +\n",
              "            '<a target=\"_blank\" href=https://colab.research.google.com/notebooks/data_table.ipynb>data table notebook</a>'\n",
              "            + ' to learn more about interactive tables.';\n",
              "          element.innerHTML = '';\n",
              "          dataTable['output_type'] = 'display_data';\n",
              "          await google.colab.output.renderOutput(dataTable, element);\n",
              "          const docLink = document.createElement('div');\n",
              "          docLink.innerHTML = docLinkHtml;\n",
              "          element.appendChild(docLink);\n",
              "        }\n",
              "      </script>\n",
              "    </div>\n",
              "  </div>\n",
              "  "
            ]
          },
          "metadata": {},
          "execution_count": 90
        }
      ]
    },
    {
      "cell_type": "code",
      "source": [
        "# Menampilkan y\n",
        "y.head()"
      ],
      "metadata": {
        "colab": {
          "base_uri": "https://localhost:8080/"
        },
        "id": "kEAQ5zO70z_z",
        "outputId": "b2960d3c-861a-4559-a935-457cfc947b59"
      },
      "execution_count": null,
      "outputs": [
        {
          "output_type": "execute_result",
          "data": {
            "text/plain": [
              "0    0\n",
              "1    0\n",
              "2    0\n",
              "3    0\n",
              "4    0\n",
              "Name: diagnosis, dtype: int64"
            ]
          },
          "metadata": {},
          "execution_count": 91
        }
      ]
    },
    {
      "cell_type": "markdown",
      "source": [
        "# **Data Original**"
      ],
      "metadata": {
        "id": "E7ljHp_H08W-"
      }
    },
    {
      "cell_type": "code",
      "source": [
        "# Membagi data menjadi training = 70% dan testing = 30%\n",
        "X_train, X_test, Y_train, Y_test = train_test_split(X,y, test_size=0.3, random_state=2022)"
      ],
      "metadata": {
        "id": "NNGtEivd1AZL"
      },
      "execution_count": null,
      "outputs": []
    },
    {
      "cell_type": "code",
      "source": [
        "# Menampilkan Data\n",
        "X_train.head()"
      ],
      "metadata": {
        "colab": {
          "base_uri": "https://localhost:8080/",
          "height": 317
        },
        "id": "-fabH66V1GcB",
        "outputId": "f9050384-4983-4396-e4c4-cafdd9f9f248"
      },
      "execution_count": null,
      "outputs": [
        {
          "output_type": "execute_result",
          "data": {
            "text/plain": [
              "     diagnosis  fitur 2  fitur 3  fitur 4  fitur 5  fitur 6  fitur 7  \\\n",
              "479          0    16.25    19.51      109    815.8  0.10260  0.18930   \n",
              "209          1    15.27    12.91       98    725.5  0.08182  0.06230   \n",
              "408          0    17.99    20.66      117    991.7  0.10360  0.13040   \n",
              "522          1    11.26    19.83       71    388.1  0.08511  0.04413   \n",
              "372          0    21.37    15.10      141   1386.0  0.10010  0.15150   \n",
              "\n",
              "      fitur 8   fitur 9  fitur 10  ...  fitur 21  fitur 22  fitur 23  \\\n",
              "479  0.223600  0.091940    0.2151  ...  0.006355     17.39     23.05   \n",
              "209  0.058920  0.031570    0.1359  ...  0.001656     17.38     15.92   \n",
              "408  0.120100  0.088240    0.1992  ...  0.003336     21.08     25.41   \n",
              "522  0.005067  0.005664    0.1637  ...  0.002295     11.93     26.43   \n",
              "372  0.193200  0.125500    0.1973  ...  0.004367     22.69     21.84   \n",
              "\n",
              "     fitur 24  fitur 25  fitur 26  fitur 27  fitur 28  fitur 29  fitur 30  \n",
              "479    122.10     939.7    0.1377   0.44620   0.58970   0.17750    0.3318  \n",
              "209    113.70     932.7    0.1222   0.21860   0.29620   0.10350    0.2320  \n",
              "408    138.10    1349.0    0.1482   0.37350   0.33010   0.19740    0.3060  \n",
              "522     76.38     435.9    0.1108   0.07723   0.02533   0.02832    0.2557  \n",
              "372    152.10    1535.0    0.1192   0.28400   0.40240   0.19660    0.2730  \n",
              "\n",
              "[5 rows x 30 columns]"
            ],
            "text/html": [
              "\n",
              "  <div id=\"df-5acd9ca0-e6e1-4d55-8236-0bad8609358a\">\n",
              "    <div class=\"colab-df-container\">\n",
              "      <div>\n",
              "<style scoped>\n",
              "    .dataframe tbody tr th:only-of-type {\n",
              "        vertical-align: middle;\n",
              "    }\n",
              "\n",
              "    .dataframe tbody tr th {\n",
              "        vertical-align: top;\n",
              "    }\n",
              "\n",
              "    .dataframe thead th {\n",
              "        text-align: right;\n",
              "    }\n",
              "</style>\n",
              "<table border=\"1\" class=\"dataframe\">\n",
              "  <thead>\n",
              "    <tr style=\"text-align: right;\">\n",
              "      <th></th>\n",
              "      <th>diagnosis</th>\n",
              "      <th>fitur 2</th>\n",
              "      <th>fitur 3</th>\n",
              "      <th>fitur 4</th>\n",
              "      <th>fitur 5</th>\n",
              "      <th>fitur 6</th>\n",
              "      <th>fitur 7</th>\n",
              "      <th>fitur 8</th>\n",
              "      <th>fitur 9</th>\n",
              "      <th>fitur 10</th>\n",
              "      <th>...</th>\n",
              "      <th>fitur 21</th>\n",
              "      <th>fitur 22</th>\n",
              "      <th>fitur 23</th>\n",
              "      <th>fitur 24</th>\n",
              "      <th>fitur 25</th>\n",
              "      <th>fitur 26</th>\n",
              "      <th>fitur 27</th>\n",
              "      <th>fitur 28</th>\n",
              "      <th>fitur 29</th>\n",
              "      <th>fitur 30</th>\n",
              "    </tr>\n",
              "  </thead>\n",
              "  <tbody>\n",
              "    <tr>\n",
              "      <th>479</th>\n",
              "      <td>0</td>\n",
              "      <td>16.25</td>\n",
              "      <td>19.51</td>\n",
              "      <td>109</td>\n",
              "      <td>815.8</td>\n",
              "      <td>0.10260</td>\n",
              "      <td>0.18930</td>\n",
              "      <td>0.223600</td>\n",
              "      <td>0.091940</td>\n",
              "      <td>0.2151</td>\n",
              "      <td>...</td>\n",
              "      <td>0.006355</td>\n",
              "      <td>17.39</td>\n",
              "      <td>23.05</td>\n",
              "      <td>122.10</td>\n",
              "      <td>939.7</td>\n",
              "      <td>0.1377</td>\n",
              "      <td>0.44620</td>\n",
              "      <td>0.58970</td>\n",
              "      <td>0.17750</td>\n",
              "      <td>0.3318</td>\n",
              "    </tr>\n",
              "    <tr>\n",
              "      <th>209</th>\n",
              "      <td>1</td>\n",
              "      <td>15.27</td>\n",
              "      <td>12.91</td>\n",
              "      <td>98</td>\n",
              "      <td>725.5</td>\n",
              "      <td>0.08182</td>\n",
              "      <td>0.06230</td>\n",
              "      <td>0.058920</td>\n",
              "      <td>0.031570</td>\n",
              "      <td>0.1359</td>\n",
              "      <td>...</td>\n",
              "      <td>0.001656</td>\n",
              "      <td>17.38</td>\n",
              "      <td>15.92</td>\n",
              "      <td>113.70</td>\n",
              "      <td>932.7</td>\n",
              "      <td>0.1222</td>\n",
              "      <td>0.21860</td>\n",
              "      <td>0.29620</td>\n",
              "      <td>0.10350</td>\n",
              "      <td>0.2320</td>\n",
              "    </tr>\n",
              "    <tr>\n",
              "      <th>408</th>\n",
              "      <td>0</td>\n",
              "      <td>17.99</td>\n",
              "      <td>20.66</td>\n",
              "      <td>117</td>\n",
              "      <td>991.7</td>\n",
              "      <td>0.10360</td>\n",
              "      <td>0.13040</td>\n",
              "      <td>0.120100</td>\n",
              "      <td>0.088240</td>\n",
              "      <td>0.1992</td>\n",
              "      <td>...</td>\n",
              "      <td>0.003336</td>\n",
              "      <td>21.08</td>\n",
              "      <td>25.41</td>\n",
              "      <td>138.10</td>\n",
              "      <td>1349.0</td>\n",
              "      <td>0.1482</td>\n",
              "      <td>0.37350</td>\n",
              "      <td>0.33010</td>\n",
              "      <td>0.19740</td>\n",
              "      <td>0.3060</td>\n",
              "    </tr>\n",
              "    <tr>\n",
              "      <th>522</th>\n",
              "      <td>1</td>\n",
              "      <td>11.26</td>\n",
              "      <td>19.83</td>\n",
              "      <td>71</td>\n",
              "      <td>388.1</td>\n",
              "      <td>0.08511</td>\n",
              "      <td>0.04413</td>\n",
              "      <td>0.005067</td>\n",
              "      <td>0.005664</td>\n",
              "      <td>0.1637</td>\n",
              "      <td>...</td>\n",
              "      <td>0.002295</td>\n",
              "      <td>11.93</td>\n",
              "      <td>26.43</td>\n",
              "      <td>76.38</td>\n",
              "      <td>435.9</td>\n",
              "      <td>0.1108</td>\n",
              "      <td>0.07723</td>\n",
              "      <td>0.02533</td>\n",
              "      <td>0.02832</td>\n",
              "      <td>0.2557</td>\n",
              "    </tr>\n",
              "    <tr>\n",
              "      <th>372</th>\n",
              "      <td>0</td>\n",
              "      <td>21.37</td>\n",
              "      <td>15.10</td>\n",
              "      <td>141</td>\n",
              "      <td>1386.0</td>\n",
              "      <td>0.10010</td>\n",
              "      <td>0.15150</td>\n",
              "      <td>0.193200</td>\n",
              "      <td>0.125500</td>\n",
              "      <td>0.1973</td>\n",
              "      <td>...</td>\n",
              "      <td>0.004367</td>\n",
              "      <td>22.69</td>\n",
              "      <td>21.84</td>\n",
              "      <td>152.10</td>\n",
              "      <td>1535.0</td>\n",
              "      <td>0.1192</td>\n",
              "      <td>0.28400</td>\n",
              "      <td>0.40240</td>\n",
              "      <td>0.19660</td>\n",
              "      <td>0.2730</td>\n",
              "    </tr>\n",
              "  </tbody>\n",
              "</table>\n",
              "<p>5 rows × 30 columns</p>\n",
              "</div>\n",
              "      <button class=\"colab-df-convert\" onclick=\"convertToInteractive('df-5acd9ca0-e6e1-4d55-8236-0bad8609358a')\"\n",
              "              title=\"Convert this dataframe to an interactive table.\"\n",
              "              style=\"display:none;\">\n",
              "        \n",
              "  <svg xmlns=\"http://www.w3.org/2000/svg\" height=\"24px\"viewBox=\"0 0 24 24\"\n",
              "       width=\"24px\">\n",
              "    <path d=\"M0 0h24v24H0V0z\" fill=\"none\"/>\n",
              "    <path d=\"M18.56 5.44l.94 2.06.94-2.06 2.06-.94-2.06-.94-.94-2.06-.94 2.06-2.06.94zm-11 1L8.5 8.5l.94-2.06 2.06-.94-2.06-.94L8.5 2.5l-.94 2.06-2.06.94zm10 10l.94 2.06.94-2.06 2.06-.94-2.06-.94-.94-2.06-.94 2.06-2.06.94z\"/><path d=\"M17.41 7.96l-1.37-1.37c-.4-.4-.92-.59-1.43-.59-.52 0-1.04.2-1.43.59L10.3 9.45l-7.72 7.72c-.78.78-.78 2.05 0 2.83L4 21.41c.39.39.9.59 1.41.59.51 0 1.02-.2 1.41-.59l7.78-7.78 2.81-2.81c.8-.78.8-2.07 0-2.86zM5.41 20L4 18.59l7.72-7.72 1.47 1.35L5.41 20z\"/>\n",
              "  </svg>\n",
              "      </button>\n",
              "      \n",
              "  <style>\n",
              "    .colab-df-container {\n",
              "      display:flex;\n",
              "      flex-wrap:wrap;\n",
              "      gap: 12px;\n",
              "    }\n",
              "\n",
              "    .colab-df-convert {\n",
              "      background-color: #E8F0FE;\n",
              "      border: none;\n",
              "      border-radius: 50%;\n",
              "      cursor: pointer;\n",
              "      display: none;\n",
              "      fill: #1967D2;\n",
              "      height: 32px;\n",
              "      padding: 0 0 0 0;\n",
              "      width: 32px;\n",
              "    }\n",
              "\n",
              "    .colab-df-convert:hover {\n",
              "      background-color: #E2EBFA;\n",
              "      box-shadow: 0px 1px 2px rgba(60, 64, 67, 0.3), 0px 1px 3px 1px rgba(60, 64, 67, 0.15);\n",
              "      fill: #174EA6;\n",
              "    }\n",
              "\n",
              "    [theme=dark] .colab-df-convert {\n",
              "      background-color: #3B4455;\n",
              "      fill: #D2E3FC;\n",
              "    }\n",
              "\n",
              "    [theme=dark] .colab-df-convert:hover {\n",
              "      background-color: #434B5C;\n",
              "      box-shadow: 0px 1px 3px 1px rgba(0, 0, 0, 0.15);\n",
              "      filter: drop-shadow(0px 1px 2px rgba(0, 0, 0, 0.3));\n",
              "      fill: #FFFFFF;\n",
              "    }\n",
              "  </style>\n",
              "\n",
              "      <script>\n",
              "        const buttonEl =\n",
              "          document.querySelector('#df-5acd9ca0-e6e1-4d55-8236-0bad8609358a button.colab-df-convert');\n",
              "        buttonEl.style.display =\n",
              "          google.colab.kernel.accessAllowed ? 'block' : 'none';\n",
              "\n",
              "        async function convertToInteractive(key) {\n",
              "          const element = document.querySelector('#df-5acd9ca0-e6e1-4d55-8236-0bad8609358a');\n",
              "          const dataTable =\n",
              "            await google.colab.kernel.invokeFunction('convertToInteractive',\n",
              "                                                     [key], {});\n",
              "          if (!dataTable) return;\n",
              "\n",
              "          const docLinkHtml = 'Like what you see? Visit the ' +\n",
              "            '<a target=\"_blank\" href=https://colab.research.google.com/notebooks/data_table.ipynb>data table notebook</a>'\n",
              "            + ' to learn more about interactive tables.';\n",
              "          element.innerHTML = '';\n",
              "          dataTable['output_type'] = 'display_data';\n",
              "          await google.colab.output.renderOutput(dataTable, element);\n",
              "          const docLink = document.createElement('div');\n",
              "          docLink.innerHTML = docLinkHtml;\n",
              "          element.appendChild(docLink);\n",
              "        }\n",
              "      </script>\n",
              "    </div>\n",
              "  </div>\n",
              "  "
            ]
          },
          "metadata": {},
          "execution_count": 93
        }
      ]
    },
    {
      "cell_type": "markdown",
      "source": [
        "# **Data Normalisasi**"
      ],
      "metadata": {
        "id": "pqU6or4e1XJA"
      }
    },
    {
      "cell_type": "code",
      "source": [
        "# Normalisasi menggunakan StandardScaler\n",
        "X_norm = StandardScaler().fit_transform(X)"
      ],
      "metadata": {
        "id": "ViNLTrJe1aav"
      },
      "execution_count": null,
      "outputs": []
    },
    {
      "cell_type": "code",
      "source": [
        "# Melihat hasil normalisasi dengan StandardScaler\n",
        "X_norm"
      ],
      "metadata": {
        "colab": {
          "base_uri": "https://localhost:8080/"
        },
        "id": "NYoNNa0y_AXS",
        "outputId": "dd5f0f19-5b1b-4875-a8c1-85c5686d200c"
      },
      "execution_count": null,
      "outputs": [
        {
          "output_type": "execute_result",
          "data": {
            "text/plain": [
              "array([[-1.29767572,  1.09706398, -2.07333501, ...,  2.10952635,\n",
              "         2.29607613,  2.75062224],\n",
              "       [-1.29767572,  1.82982061, -0.35363241, ..., -0.14674897,\n",
              "         1.0870843 , -0.24388967],\n",
              "       [-1.29767572,  1.57988811,  0.45618695, ...,  0.85497394,\n",
              "         1.95500035,  1.152255  ],\n",
              "       ...,\n",
              "       [-1.29767572,  0.70228425,  2.0455738 , ...,  0.3267666 ,\n",
              "         0.41406869, -1.10454895],\n",
              "       [-1.29767572,  1.83834103,  2.33645719, ...,  3.19760468,\n",
              "         2.28998549,  1.91908301],\n",
              "       [ 0.77060855, -1.80840125,  1.22179204, ..., -1.30583065,\n",
              "        -1.74506282, -0.04813821]])"
            ]
          },
          "metadata": {},
          "execution_count": 96
        }
      ]
    },
    {
      "cell_type": "code",
      "source": [
        "X_train_norm, X_test_norm, Y_train_norm, Y_test_norm = train_test_split(X_norm,y, test_size=0.3, random_state=2022)"
      ],
      "metadata": {
        "id": "SY_cykuH_D-7"
      },
      "execution_count": null,
      "outputs": []
    },
    {
      "cell_type": "markdown",
      "source": [
        "# **Data Original PCA**"
      ],
      "metadata": {
        "id": "IQV8F8_h306_"
      }
    },
    {
      "cell_type": "code",
      "source": [
        "pca = PCA(random_state=2022)\n",
        "pca.fit(X)\n",
        "ori_pca_array = pca.transform(X)\n",
        "ori_pca = pd.DataFrame(ori_pca_array)\n",
        "print(\"Heads of Original_PCA:\",ori_pca.head())\n",
        "var_ratio = pca.explained_variance_ratio_\n",
        "print(\"\\n Explained Variance Ratio:\",var_ratio)\n",
        "sv = pca.singular_values_\n",
        "print(\"\\n Singular Value:\",sv)"
      ],
      "metadata": {
        "colab": {
          "base_uri": "https://localhost:8080/"
        },
        "id": "3FlruPEs36aJ",
        "outputId": "a7afaf3b-74e0-4652-f4a4-fb96dc8cd71b"
      },
      "execution_count": null,
      "outputs": [
        {
          "output_type": "stream",
          "name": "stdout",
          "text": [
            "Heads of Original_PCA:             0           1          2          3          4         5   \\\n",
            "0  1160.131330 -293.939198  48.596733  -8.650995  31.887475  1.572947   \n",
            "1  1269.107886   15.601361 -35.358791  18.019602  -4.456236  0.160731   \n",
            "2   995.811168   39.185221  -1.742457   4.047645  -0.313625 -3.019382   \n",
            "3  -407.183790  -67.385476   8.675012 -11.760350   7.075211  1.401503   \n",
            "4   930.355191  189.362911   1.350778   8.369432   7.732636  0.749027   \n",
            "\n",
            "         6         7         8         9   ...        20        21        22  \\\n",
            "0  0.877377  0.117465  0.762164  0.665152  ... -0.048890 -0.017839  0.002992   \n",
            "1 -0.122876  0.164636 -0.596224 -0.172881  ...  0.016063 -0.005021  0.003202   \n",
            "2 -0.739011 -0.245879 -0.163639 -0.347811  ... -0.012540  0.013587 -0.004613   \n",
            "3 -1.251629 -0.054936 -0.451542 -0.580895  ... -0.037733 -0.005363  0.001825   \n",
            "4 -0.253720  0.325111  0.022634 -0.341130  ...  0.013727  0.010703  0.003405   \n",
            "\n",
            "         23        24        25        26        27        28        29  \n",
            "0  0.011097  0.006202  0.001035  0.002858 -0.000933  0.002056  0.000265  \n",
            "1  0.008688 -0.005446 -0.001458  0.004822 -0.000529  0.000347  0.000174  \n",
            "2 -0.004923  0.000503 -0.003093 -0.001617  0.000261 -0.000596  0.000107  \n",
            "3  0.006843 -0.009254 -0.004748  0.003624  0.001123 -0.001959 -0.001747  \n",
            "4  0.002907  0.002705  0.001044  0.000728  0.002866  0.001706  0.000853  \n",
            "\n",
            "[5 rows x 30 columns]\n",
            "\n",
            " Explained Variance Ratio: [9.82043990e-01 1.61765777e-02 1.55758878e-03 1.20975023e-04\n",
            " 8.83578396e-05 6.85082575e-06 4.02844567e-06 8.25517250e-07\n",
            " 3.47001877e-07 1.98950410e-07 1.69209023e-07 5.32855947e-08\n",
            " 1.85860354e-08 7.05745042e-09 4.67819429e-09 2.91081914e-09\n",
            " 1.44719320e-09 8.15008671e-10 5.42914509e-10 4.06881448e-10\n",
            " 3.66675140e-10 1.76469324e-10 7.66643677e-11 6.36931966e-11\n",
            " 3.60303999e-11 2.84846012e-11 1.65238002e-11 7.63101309e-12\n",
            " 4.42748710e-12 2.08131226e-12]\n",
            "\n",
            " Singular Value: [1.58766849e+04 2.03768796e+03 6.32296472e+02 1.76214731e+02\n",
            " 1.50597200e+02 4.19339541e+01 3.21560807e+01 1.45565156e+01\n",
            " 9.43757175e+00 7.14606190e+00 6.59031409e+00 3.69827552e+00\n",
            " 2.18417652e+00 1.34591698e+00 1.09580551e+00 8.64374537e-01\n",
            " 6.09477408e-01 4.57378208e-01 3.73301795e-01 3.23167962e-01\n",
            " 3.06785683e-01 2.12828099e-01 1.40278506e-01 1.27861819e-01\n",
            " 9.61676261e-02 8.55065583e-02 6.51252379e-02 4.42573548e-02\n",
            " 3.37111064e-02 2.31133542e-02]\n"
          ]
        }
      ]
    },
    {
      "cell_type": "code",
      "source": [
        "# Visualisasi Data Original PCA\n",
        "cum_var_ratio = np.cumsum(var_ratio)\n",
        "\n",
        "plt.figure(figsize=(10, 5))\n",
        "plt.bar(range(len(var_ratio)),\n",
        "        var_ratio,\n",
        "        alpha=0.3333,\n",
        "        align='center',\n",
        "        label='individual explained variance',\n",
        "        color = 'g')\n",
        "plt.step(range(len(cum_var_ratio)),\n",
        "         cum_var_ratio,\n",
        "         where='mid',\n",
        "         label='cumulative explained variance')\n",
        "plt.ylabel('Explained variance ratio')\n",
        "plt.xlabel('Principal components')\n",
        "plt.legend(loc='best')\n",
        "plt.show()\n",
        "\n",
        "print(\"Cumulative explained ratio:\",cum_var_ratio)"
      ],
      "metadata": {
        "colab": {
          "base_uri": "https://localhost:8080/",
          "height": 421
        },
        "id": "7RKhcRgU_MdP",
        "outputId": "685b8c17-1efa-43c7-dbbe-c86d85781ccf"
      },
      "execution_count": null,
      "outputs": [
        {
          "output_type": "display_data",
          "data": {
            "text/plain": [
              "<Figure size 720x360 with 1 Axes>"
            ],
            "image/png": "[encoded data removed]"
          },
          "metadata": {
            "needs_background": "light"
          }
        },
        {
          "output_type": "stream",
          "name": "stdout",
          "text": [
            "Cumulative explained ratio: [0.98204399 0.99822057 0.99977816 0.99989913 0.99998749 0.99999434\n",
            " 0.99999837 0.99999919 0.99999954 0.99999974 0.99999991 0.99999996\n",
            " 0.99999998 0.99999999 0.99999999 1.         1.         1.\n",
            " 1.         1.         1.         1.         1.         1.\n",
            " 1.         1.         1.         1.         1.         1.        ]\n"
          ]
        }
      ]
    },
    {
      "cell_type": "code",
      "source": [
        "# Dipilih 18 PC\n",
        "pca = PCA(n_components=18, random_state=2022)\n",
        "pca.fit(X)\n",
        "ori_pca_array = pca.transform(X)\n",
        "ori_pca = pd.DataFrame(data=ori_pca_array, columns = ['PC1', 'PC2','PC3','PC4','PC5','PC6','PC7','PC8','PC9','PC10','PC11','PC12','PC13','PC14','PC15','PC16','PC17','PC18'])"
      ],
      "metadata": {
        "id": "jRtz7QNV_OIx"
      },
      "execution_count": null,
      "outputs": []
    },
    {
      "cell_type": "code",
      "source": [
        "X_train_pca, X_test_pca, Y_train_pca, Y_test_pca = train_test_split(ori_pca,y, test_size=0.3, random_state=2022)"
      ],
      "metadata": {
        "id": "WZoY9qfA_SUd"
      },
      "execution_count": null,
      "outputs": []
    },
    {
      "cell_type": "markdown",
      "source": [
        "# Data Normalisasi PCA"
      ],
      "metadata": {
        "id": "XRS442UD_Ziz"
      }
    },
    {
      "cell_type": "code",
      "source": [
        "pca = PCA(random_state=2022)\n",
        "pca.fit(X_norm)\n",
        "norm_pca_array = pca.transform(X_norm)\n",
        "norm_pca = pd.DataFrame(norm_pca_array)\n",
        "print(\"Heads of iris_pca:\",norm_pca.head())\n",
        "var_ratio = pca.explained_variance_ratio_\n",
        "print(\"\\n Explained variance ratio:\",var_ratio)\n",
        "sv = pca.singular_values_\n",
        "print(\"\\n Singular Value:\",sv)"
      ],
      "metadata": {
        "colab": {
          "base_uri": "https://localhost:8080/"
        },
        "id": "iZHcuBNx_g3y",
        "outputId": "6c59ec09-6ea6-4fb7-f43b-8f0bba8a5c84"
      },
      "execution_count": null,
      "outputs": [
        {
          "output_type": "stream",
          "name": "stdout",
          "text": [
            "Heads of iris_pca:          0         1         2         3         4         5         6   \\\n",
            "0  9.002525  2.135742 -1.305997  3.581671 -1.360713  1.555572  2.075943   \n",
            "1  2.719777 -3.864883 -0.065612  1.235685  0.363882  0.114205 -0.766541   \n",
            "2  5.935507 -0.782664 -0.630546  0.872962 -0.135608  0.496589 -0.600240   \n",
            "3  6.339366  9.506545 -3.915675 -0.267911 -2.698427  3.140545  0.799365   \n",
            "4  4.265282 -1.506060  1.342332  2.965325  0.172809 -1.227746 -1.334714   \n",
            "\n",
            "         7         8         9   ...        20        21        22        23  \\\n",
            "0  0.065721 -0.392081 -0.887718  ... -0.239144  0.170523  0.081864 -0.253747   \n",
            "1 -0.097380 -0.340999  1.038152  ...  0.037055 -0.052667 -0.212582 -0.059070   \n",
            "2  0.006737  0.068199  0.458184  ...  0.311513  0.206959 -0.072888  0.189331   \n",
            "3 -1.098642 -1.602566 -1.117686  ...  0.570351  0.271110 -0.119603  0.201262   \n",
            "4 -0.479396 -0.054446  0.351374  ... -0.108561 -0.076899  0.141002  0.024425   \n",
            "\n",
            "         24        25        26        27        28        29  \n",
            "0  0.146164 -0.184416 -0.253827 -0.042596  0.037506 -0.060306  \n",
            "1 -0.016442 -0.039804  0.151870  0.045676 -0.018051 -0.013434  \n",
            "2 -0.087232 -0.009073  0.053595  0.046275  0.010415  0.011969  \n",
            "3 -0.132968 -0.290128  0.151579  0.051624 -0.077925 -0.019150  \n",
            "4  0.019389  0.043317  0.031198 -0.031289  0.011937  0.029286  \n",
            "\n",
            "[5 rows x 30 columns]\n",
            "\n",
            " Explained variance ratio: [4.57030589e-01 1.77340979e-01 8.94340999e-02 6.62794781e-02\n",
            " 5.46429572e-02 3.99904136e-02 1.97074887e-02 1.60044391e-02\n",
            " 1.35400814e-02 1.16977750e-02 9.70243261e-03 9.49291639e-03\n",
            " 8.69469494e-03 7.05559633e-03 4.77339922e-03 2.85695324e-03\n",
            " 2.10579189e-03 1.75330228e-03 1.70518666e-03 1.60497285e-03\n",
            " 1.02253660e-03 9.81425567e-04 8.09544655e-04 5.99436535e-04\n",
            " 5.85856282e-04 2.68709667e-04 2.33214046e-04 5.38705748e-05\n",
            " 2.54177283e-05 6.44122054e-06]\n",
            "\n",
            " Singular Value: [88.3261691  55.02009189 39.07224188 33.63615154 30.54104253 26.12731063\n",
            " 18.3413967  16.52863503 15.2029336  14.13085343 12.8693638  12.72965368\n",
            " 12.18271081 10.97447171  9.02673389  6.98342265  5.99548726  5.47072847\n",
            "  5.39514007  5.23420353  4.17788221  4.09303487  3.71738177  3.19880941\n",
            "  3.16236727  2.14169886  1.99523526  0.9589425   0.65869615  0.33158956]\n"
          ]
        }
      ]
    },
    {
      "cell_type": "code",
      "source": [
        "# Visualisasi Data Normalisasi PCA\n",
        "cum_var_ratio = np.cumsum(var_ratio)\n",
        "\n",
        "plt.figure(figsize=(10, 5))\n",
        "plt.bar(range(len(var_ratio)),\n",
        "        var_ratio,\n",
        "        alpha=0.3333,\n",
        "        align='center',\n",
        "        label='individual explained variance',\n",
        "        color = 'g')\n",
        "plt.step(range(len(cum_var_ratio)),\n",
        "         cum_var_ratio,\n",
        "         where='mid',\n",
        "         label='cumulative explained variance')\n",
        "plt.ylabel('Explained variance ratio')\n",
        "plt.xlabel('Principal components')\n",
        "plt.legend(loc='best')\n",
        "plt.show()\n",
        "\n",
        "print(\"Cumulative explained ratio:\",cum_var_ratio)"
      ],
      "metadata": {
        "colab": {
          "base_uri": "https://localhost:8080/",
          "height": 421
        },
        "id": "YjSixuCq_kbx",
        "outputId": "eb42e014-fbd9-4de7-ae3e-b4b2d2854d08"
      },
      "execution_count": null,
      "outputs": [
        {
          "output_type": "display_data",
          "data": {
            "text/plain": [
              "<Figure size 720x360 with 1 Axes>"
            ],
            "image/png": "[encoded data removed]"
          },
          "metadata": {
            "needs_background": "light"
          }
        },
        {
          "output_type": "stream",
          "name": "stdout",
          "text": [
            "Cumulative explained ratio: [0.45703059 0.63437157 0.72380567 0.79008515 0.8447281  0.88471852\n",
            " 0.90442601 0.92043044 0.93397053 0.9456683  0.95537073 0.96486365\n",
            " 0.97355834 0.98061394 0.98538734 0.98824429 0.99035009 0.99210339\n",
            " 0.99380857 0.99541355 0.99643608 0.99741751 0.99822705 0.99882649\n",
            " 0.99941235 0.99968106 0.99991427 0.99996814 0.99999356 1.        ]\n"
          ]
        }
      ]
    },
    {
      "cell_type": "code",
      "source": [
        "# Dipilih 18 PC\n",
        "pca = PCA(n_components=18, random_state=2022)\n",
        "pca.fit(X_norm)\n",
        "norm_pca_array = pca.transform(X_norm)\n",
        "norm_pca = pd.DataFrame(data=norm_pca_array, columns = ['PC1', 'PC2','PC3','PC4','PC5','PC6','PC7','PC8','PC9','PC10','PC11','PC12','PC13','PC14','PC15','PC16','PC17','PC18'])\n"
      ],
      "metadata": {
        "id": "dz9b6j_Q_pCA"
      },
      "execution_count": null,
      "outputs": []
    },
    {
      "cell_type": "code",
      "source": [
        "X_train_norm_pca, X_test_norm_pca, Y_train_norm_pca, Y_test_norm_pca = train_test_split(norm_pca,y, test_size=0.3, random_state=2022)"
      ],
      "metadata": {
        "id": "C1Tt8qJV_tWA"
      },
      "execution_count": null,
      "outputs": []
    },
    {
      "cell_type": "markdown",
      "source": [
        "# **7) Menentukan Label Data** **bold text**\n",
        "Tidak perlu dikerjakan karena label sudah diputuskan dibagian transformasi data.\n",
        "Merupakan Soal Tertulis."
      ],
      "metadata": {
        "id": "N6ebcVKD7E9n"
      }
    },
    {
      "cell_type": "markdown",
      "source": [
        "8) Membangun Model\n",
        "Teknik Pemodelan yang dipakai:\n",
        "Menggunakan Decision Tree\n",
        "Parameter yang dipakai:\n",
        "- [criterion: gini, entropy]\n",
        "- [max_depth]\n",
        "- [min sample split]\n",
        "- [min sample leaf]\n",
        "Skenario Pengujian\n",
        "Menggunakan akurasi, presisi dan recall.\n",
        "Pengujian menggunakan Data Original.\n",
        "Pengujian menggunakan Data yang sudah dinormalisasi.\n",
        "Pengujian menggunakan Data Original yang diberikan PCA.\n",
        "Pengujian menggunakan Data yang sudah dinormalisasi dan diberikan PCA.\n",
        "menjadi soal coding"
      ],
      "metadata": {
        "id": "tqiQvaHg7RlK"
      }
    },
    {
      "cell_type": "markdown",
      "source": [
        "# **DECISION TREE**"
      ],
      "metadata": {
        "id": "qsNiTyZj7ddR"
      }
    },
    {
      "cell_type": "code",
      "source": [
        "# Pemodelan Decision Tree\n",
        "classifier_dt_pipeline = Pipeline([\n",
        "                          ('model',DecisionTreeClassifier()),\n",
        "                          ])"
      ],
      "metadata": {
        "id": "FGATUP5K7h2r"
      },
      "execution_count": null,
      "outputs": []
    },
    {
      "cell_type": "code",
      "source": [
        "# menyiapkan parameter yang digunakan\n",
        "parameters_dt = {\n",
        "                \"model__max_depth\": np.arange(1,21),\n",
        "                \"model__min_samples_leaf\": np.arange(1,101,2),\n",
        "                \"model__min_samples_split\": np.arange(2,11),\n",
        "                \"model__criterion\": ['gini','entropy'],\n",
        "                \"model__random_state\": [2022]\n",
        "}"
      ],
      "metadata": {
        "id": "G8X94PrK7mBS"
      },
      "execution_count": null,
      "outputs": []
    },
    {
      "cell_type": "markdown",
      "source": [
        "# Pemodelan Decision Tree"
      ],
      "metadata": {
        "id": "76aZg_UJ7rgA"
      }
    },
    {
      "cell_type": "markdown",
      "source": [
        "# Pemodelan dengan data original"
      ],
      "metadata": {
        "id": "vTIs2WaS76Vg"
      }
    },
    {
      "cell_type": "code",
      "source": [
        "ori_classifier_dt = GridSearchCV(classifier_dt_pipeline, parameters_dt, cv=3, n_jobs=-1)"
      ],
      "metadata": {
        "id": "XHnq6O2K8CPa"
      },
      "execution_count": null,
      "outputs": []
    },
    {
      "cell_type": "code",
      "source": [
        "ori_classifier_dt.fit(X_train_norm,Y_train_norm.ravel())"
      ],
      "metadata": {
        "colab": {
          "base_uri": "https://localhost:8080/"
        },
        "id": "6GWNoX5NAPRS",
        "outputId": "8a638cd9-3270-4f46-9e62-c4b10fce25b9"
      },
      "execution_count": null,
      "outputs": [
        {
          "output_type": "execute_result",
          "data": {
            "text/plain": [
              "GridSearchCV(cv=3,\n",
              "             estimator=Pipeline(steps=[('model', DecisionTreeClassifier())]),\n",
              "             n_jobs=-1,\n",
              "             param_grid={'model__criterion': ['gini', 'entropy'],\n",
              "                         'model__max_depth': array([ 1,  2,  3,  4,  5,  6,  7,  8,  9, 10, 11, 12, 13, 14, 15, 16, 17,\n",
              "       18, 19, 20]),\n",
              "                         'model__min_samples_leaf': array([ 1,  3,  5,  7,  9, 11, 13, 15, 17, 19, 21, 23, 25, 27, 29, 31, 33,\n",
              "       35, 37, 39, 41, 43, 45, 47, 49, 51, 53, 55, 57, 59, 61, 63, 65, 67,\n",
              "       69, 71, 73, 75, 77, 79, 81, 83, 85, 87, 89, 91, 93, 95, 97, 99]),\n",
              "                         'model__min_samples_split': array([ 2,  3,  4,  5,  6,  7,  8,  9, 10]),\n",
              "                         'model__random_state': [2022]})"
            ]
          },
          "metadata": {},
          "execution_count": 115
        }
      ]
    },
    {
      "cell_type": "code",
      "source": [
        "ori_classifier_dt.best_estimator_"
      ],
      "metadata": {
        "colab": {
          "base_uri": "https://localhost:8080/"
        },
        "id": "TSoKi2cDBg-x",
        "outputId": "e240c5ac-a97a-4d03-b798-f5c43c539e75"
      },
      "execution_count": null,
      "outputs": [
        {
          "output_type": "execute_result",
          "data": {
            "text/plain": [
              "Pipeline(steps=[('model',\n",
              "                 DecisionTreeClassifier(max_depth=1, random_state=2022))])"
            ]
          },
          "metadata": {},
          "execution_count": 116
        }
      ]
    },
    {
      "cell_type": "code",
      "source": [
        "for param_name in sorted(parameters_dt.keys()):\n",
        "    print('%s: %r' %(param_name,ori_classifier_dt.best_params_[param_name]))"
      ],
      "metadata": {
        "colab": {
          "base_uri": "https://localhost:8080/"
        },
        "id": "5nz-e6XvBluX",
        "outputId": "0e70a416-be0f-4c1c-9a34-93985a910182"
      },
      "execution_count": null,
      "outputs": [
        {
          "output_type": "stream",
          "name": "stdout",
          "text": [
            "model__criterion: 'gini'\n",
            "model__max_depth: 1\n",
            "model__min_samples_leaf: 1\n",
            "model__min_samples_split: 2\n",
            "model__random_state: 2022\n"
          ]
        }
      ]
    },
    {
      "cell_type": "markdown",
      "source": [
        "# Permodelan Decision Tree dengan data normalisasi"
      ],
      "metadata": {
        "id": "yn8ZgXN2BzSI"
      }
    },
    {
      "cell_type": "code",
      "source": [
        "norm_classifier_dt = GridSearchCV(classifier_dt_pipeline, parameters_dt, cv=3, n_jobs=-1)"
      ],
      "metadata": {
        "id": "kKETNGeCB7jZ"
      },
      "execution_count": null,
      "outputs": []
    },
    {
      "cell_type": "code",
      "source": [
        "norm_classifier_dt.fit(X_train_norm,Y_train_norm.ravel())"
      ],
      "metadata": {
        "colab": {
          "base_uri": "https://localhost:8080/"
        },
        "id": "m4--UbiXB4-M",
        "outputId": "e59acfdc-b85c-4cb4-cf24-0959534199a2"
      },
      "execution_count": null,
      "outputs": [
        {
          "output_type": "execute_result",
          "data": {
            "text/plain": [
              "GridSearchCV(cv=3,\n",
              "             estimator=Pipeline(steps=[('model', DecisionTreeClassifier())]),\n",
              "             n_jobs=-1,\n",
              "             param_grid={'model__criterion': ['gini', 'entropy'],\n",
              "                         'model__max_depth': array([ 1,  2,  3,  4,  5,  6,  7,  8,  9, 10, 11, 12, 13, 14, 15, 16, 17,\n",
              "       18, 19, 20]),\n",
              "                         'model__min_samples_leaf': array([ 1,  3,  5,  7,  9, 11, 13, 15, 17, 19, 21, 23, 25, 27, 29, 31, 33,\n",
              "       35, 37, 39, 41, 43, 45, 47, 49, 51, 53, 55, 57, 59, 61, 63, 65, 67,\n",
              "       69, 71, 73, 75, 77, 79, 81, 83, 85, 87, 89, 91, 93, 95, 97, 99]),\n",
              "                         'model__min_samples_split': array([ 2,  3,  4,  5,  6,  7,  8,  9, 10]),\n",
              "                         'model__random_state': [2022]})"
            ]
          },
          "metadata": {},
          "execution_count": 119
        }
      ]
    },
    {
      "cell_type": "code",
      "source": [
        "norm_classifier_dt.best_estimator_"
      ],
      "metadata": {
        "colab": {
          "base_uri": "https://localhost:8080/"
        },
        "id": "G0lkWskfCPqJ",
        "outputId": "58ff785c-e6d3-4a85-de0e-1227540aee85"
      },
      "execution_count": null,
      "outputs": [
        {
          "output_type": "execute_result",
          "data": {
            "text/plain": [
              "Pipeline(steps=[('model',\n",
              "                 DecisionTreeClassifier(max_depth=1, random_state=2022))])"
            ]
          },
          "metadata": {},
          "execution_count": 120
        }
      ]
    },
    {
      "cell_type": "code",
      "source": [
        "for param_name in sorted(parameters_dt.keys()):\n",
        "    print('%s: %r' %(param_name,norm_classifier_dt.best_params_[param_name]))"
      ],
      "metadata": {
        "colab": {
          "base_uri": "https://localhost:8080/"
        },
        "id": "itGxIFByCSrr",
        "outputId": "4a7842ae-ec18-4ae8-fe73-ea4023f23e18"
      },
      "execution_count": null,
      "outputs": [
        {
          "output_type": "stream",
          "name": "stdout",
          "text": [
            "model__criterion: 'gini'\n",
            "model__max_depth: 1\n",
            "model__min_samples_leaf: 1\n",
            "model__min_samples_split: 2\n",
            "model__random_state: 2022\n"
          ]
        }
      ]
    },
    {
      "cell_type": "markdown",
      "source": [
        "# Pemodelan Decision Tree dengan Data Original tapi diberikan PCA"
      ],
      "metadata": {
        "id": "j-tpmNrRChid"
      }
    },
    {
      "cell_type": "code",
      "source": [
        "ori_pca_classifier_dt = GridSearchCV(classifier_dt_pipeline, parameters_dt, cv=3, n_jobs=-1)"
      ],
      "metadata": {
        "id": "K7WEwgduCkUZ"
      },
      "execution_count": null,
      "outputs": []
    },
    {
      "cell_type": "code",
      "source": [
        "ori_pca_classifier_dt.fit(X_train_pca,Y_train_pca.ravel())"
      ],
      "metadata": {
        "colab": {
          "base_uri": "https://localhost:8080/"
        },
        "id": "O0tpLACyCnrB",
        "outputId": "d59111c4-a7b6-4ae6-a297-27311da9bf38"
      },
      "execution_count": null,
      "outputs": [
        {
          "output_type": "execute_result",
          "data": {
            "text/plain": [
              "GridSearchCV(cv=3,\n",
              "             estimator=Pipeline(steps=[('model', DecisionTreeClassifier())]),\n",
              "             n_jobs=-1,\n",
              "             param_grid={'model__criterion': ['gini', 'entropy'],\n",
              "                         'model__max_depth': array([ 1,  2,  3,  4,  5,  6,  7,  8,  9, 10, 11, 12, 13, 14, 15, 16, 17,\n",
              "       18, 19, 20]),\n",
              "                         'model__min_samples_leaf': array([ 1,  3,  5,  7,  9, 11, 13, 15, 17, 19, 21, 23, 25, 27, 29, 31, 33,\n",
              "       35, 37, 39, 41, 43, 45, 47, 49, 51, 53, 55, 57, 59, 61, 63, 65, 67,\n",
              "       69, 71, 73, 75, 77, 79, 81, 83, 85, 87, 89, 91, 93, 95, 97, 99]),\n",
              "                         'model__min_samples_split': array([ 2,  3,  4,  5,  6,  7,  8,  9, 10]),\n",
              "                         'model__random_state': [2022]})"
            ]
          },
          "metadata": {},
          "execution_count": 123
        }
      ]
    },
    {
      "cell_type": "code",
      "source": [
        "ori_pca_classifier_dt.best_estimator_"
      ],
      "metadata": {
        "colab": {
          "base_uri": "https://localhost:8080/"
        },
        "id": "M4BNbyCnCusY",
        "outputId": "e45144b7-dcce-448f-bc47-bc9f61c5d245"
      },
      "execution_count": null,
      "outputs": [
        {
          "output_type": "execute_result",
          "data": {
            "text/plain": [
              "Pipeline(steps=[('model',\n",
              "                 DecisionTreeClassifier(criterion='entropy', max_depth=3,\n",
              "                                        min_samples_leaf=3,\n",
              "                                        random_state=2022))])"
            ]
          },
          "metadata": {},
          "execution_count": 124
        }
      ]
    },
    {
      "cell_type": "code",
      "source": [
        "for param_name in sorted(parameters_dt.keys()):\n",
        "    print('%s: %r' %(param_name,ori_pca_classifier_dt.best_params_[param_name]))"
      ],
      "metadata": {
        "colab": {
          "base_uri": "https://localhost:8080/"
        },
        "id": "SV0Tj4KvCyax",
        "outputId": "616e7fc6-deba-4f71-f6dc-54efc6f93ea1"
      },
      "execution_count": null,
      "outputs": [
        {
          "output_type": "stream",
          "name": "stdout",
          "text": [
            "model__criterion: 'entropy'\n",
            "model__max_depth: 3\n",
            "model__min_samples_leaf: 3\n",
            "model__min_samples_split: 2\n",
            "model__random_state: 2022\n"
          ]
        }
      ]
    },
    {
      "cell_type": "markdown",
      "source": [
        "# Pemodelan Decision Tree dengan Data Normalisasi tapi diberikan PCA"
      ],
      "metadata": {
        "id": "lvYAgApfC12Q"
      }
    },
    {
      "cell_type": "code",
      "source": [
        "norm_pca_classifier_dt = GridSearchCV(classifier_dt_pipeline, parameters_dt, cv=3, n_jobs=-1)"
      ],
      "metadata": {
        "id": "qSlR4sm0C996"
      },
      "execution_count": null,
      "outputs": []
    },
    {
      "cell_type": "code",
      "source": [
        "norm_pca_classifier_dt.fit(X_train_norm_pca,Y_train_norm_pca.ravel())"
      ],
      "metadata": {
        "colab": {
          "base_uri": "https://localhost:8080/"
        },
        "id": "iGA4zL2WDApo",
        "outputId": "0d744204-e20d-491b-e719-fe78c0f03793"
      },
      "execution_count": null,
      "outputs": [
        {
          "output_type": "execute_result",
          "data": {
            "text/plain": [
              "GridSearchCV(cv=3,\n",
              "             estimator=Pipeline(steps=[('model', DecisionTreeClassifier())]),\n",
              "             n_jobs=-1,\n",
              "             param_grid={'model__criterion': ['gini', 'entropy'],\n",
              "                         'model__max_depth': array([ 1,  2,  3,  4,  5,  6,  7,  8,  9, 10, 11, 12, 13, 14, 15, 16, 17,\n",
              "       18, 19, 20]),\n",
              "                         'model__min_samples_leaf': array([ 1,  3,  5,  7,  9, 11, 13, 15, 17, 19, 21, 23, 25, 27, 29, 31, 33,\n",
              "       35, 37, 39, 41, 43, 45, 47, 49, 51, 53, 55, 57, 59, 61, 63, 65, 67,\n",
              "       69, 71, 73, 75, 77, 79, 81, 83, 85, 87, 89, 91, 93, 95, 97, 99]),\n",
              "                         'model__min_samples_split': array([ 2,  3,  4,  5,  6,  7,  8,  9, 10]),\n",
              "                         'model__random_state': [2022]})"
            ]
          },
          "metadata": {},
          "execution_count": 127
        }
      ]
    },
    {
      "cell_type": "code",
      "source": [
        "norm_pca_classifier_dt.best_estimator_"
      ],
      "metadata": {
        "colab": {
          "base_uri": "https://localhost:8080/"
        },
        "id": "oNjEK1VMDEQo",
        "outputId": "83d07542-0a9b-48e9-ea5f-77804732bf4b"
      },
      "execution_count": null,
      "outputs": [
        {
          "output_type": "execute_result",
          "data": {
            "text/plain": [
              "Pipeline(steps=[('model',\n",
              "                 DecisionTreeClassifier(criterion='entropy', max_depth=5,\n",
              "                                        random_state=2022))])"
            ]
          },
          "metadata": {},
          "execution_count": 128
        }
      ]
    },
    {
      "cell_type": "code",
      "source": [
        "for param_name in sorted(parameters_dt.keys()):\n",
        "    print('%s: %r' %(param_name,norm_pca_classifier_dt.best_params_[param_name]))"
      ],
      "metadata": {
        "colab": {
          "base_uri": "https://localhost:8080/"
        },
        "id": "WJ9q5k8qDG0X",
        "outputId": "961651d8-e853-42fd-a0e5-000751192039"
      },
      "execution_count": null,
      "outputs": [
        {
          "output_type": "stream",
          "name": "stdout",
          "text": [
            "model__criterion: 'entropy'\n",
            "model__max_depth: 5\n",
            "model__min_samples_leaf: 1\n",
            "model__min_samples_split: 2\n",
            "model__random_state: 2022\n"
          ]
        }
      ]
    },
    {
      "cell_type": "markdown",
      "source": [
        "# 9) Mengevaluasi Hasil Pemodelan"
      ],
      "metadata": {
        "id": "BHjka2b-DPDQ"
      }
    },
    {
      "cell_type": "markdown",
      "source": [
        "# Evaluasi Dengan Data Original"
      ],
      "metadata": {
        "id": "vEsN5MHrDZwU"
      }
    },
    {
      "cell_type": "code",
      "source": [
        "ori_y_pred_dt_train = ori_classifier_dt.predict(X_train)\n",
        "\n",
        "ori_accuracy_dt_train = accuracy_score(Y_train,ori_y_pred_dt_train)\n",
        "print('Akurasi pada training set: ', ori_accuracy_dt_train)\n",
        "\n",
        "ori_precision_dt_train = precision_score(Y_train,ori_y_pred_dt_train, average='micro')\n",
        "print('Precision pada training set: ', ori_precision_dt_train)\n",
        "\n",
        "ori_recall_dt_train = recall_score(Y_train,ori_y_pred_dt_train, average='micro')\n",
        "print('Recall pada training set: ', ori_recall_dt_train)\n",
        "\n",
        "ori_y_pred_dt_test = ori_classifier_dt.predict(X_test)\n",
        "\n",
        "ori_accuracy_dt_test = accuracy_score(Y_test,ori_y_pred_dt_test)\n",
        "print('Akurasi pada test set: ', ori_accuracy_dt_test)\n",
        "\n",
        "ori_precision_dt_test = precision_score(Y_test,ori_y_pred_dt_test, average='micro')\n",
        "print('Precision pada test set: ', ori_precision_dt_test)\n",
        "\n",
        "ori_recall_dt_test = recall_score(Y_test,ori_y_pred_dt_test, average='micro')\n",
        "print('Recall pada test set: ', ori_recall_dt_test)"
      ],
      "metadata": {
        "colab": {
          "base_uri": "https://localhost:8080/"
        },
        "id": "-KG4HlGqDbW_",
        "outputId": "8a987e75-f113-4b4e-c339-dc60f94d274b"
      },
      "execution_count": null,
      "outputs": [
        {
          "output_type": "stream",
          "name": "stdout",
          "text": [
            "Akurasi pada training set:  0.6381909547738693\n",
            "Precision pada training set:  0.6381909547738693\n",
            "Recall pada training set:  0.6381909547738693\n",
            "Akurasi pada test set:  0.6023391812865497\n",
            "Precision pada test set:  0.6023391812865497\n",
            "Recall pada test set:  0.6023391812865497\n"
          ]
        },
        {
          "output_type": "stream",
          "name": "stderr",
          "text": [
            "/usr/local/lib/python3.8/dist-packages/sklearn/base.py:443: UserWarning: X has feature names, but DecisionTreeClassifier was fitted without feature names\n",
            "  warnings.warn(\n",
            "/usr/local/lib/python3.8/dist-packages/sklearn/base.py:443: UserWarning: X has feature names, but DecisionTreeClassifier was fitted without feature names\n",
            "  warnings.warn(\n"
          ]
        }
      ]
    },
    {
      "cell_type": "code",
      "source": [
        "# Visualisasi Confusion Matrix dengan Seaborn\n",
        "sns.heatmap(confusion_matrix(Y_test,ori_y_pred_dt_test),annot=True,cmap='viridis', fmt='.0f')\n",
        "plt.xlabel('Predicted Values', fontdict={'size':14}, labelpad=10)\n",
        "plt.ylabel('Actual Values', fontdict={'size':14}, labelpad=10)\n",
        "plt.title('Confusion Matrix pada bagian testing untuk data asli')\n",
        "plt.show()"
      ],
      "metadata": {
        "colab": {
          "base_uri": "https://localhost:8080/",
          "height": 305
        },
        "id": "rabmHkKlDghG",
        "outputId": "d0c54534-8f34-4d41-f5a1-f0a609957377"
      },
      "execution_count": null,
      "outputs": [
        {
          "output_type": "display_data",
          "data": {
            "text/plain": [
              "<Figure size 432x288 with 2 Axes>"
            ],
            "image/png": "[encoded data removed]"
          },
          "metadata": {
            "needs_background": "light"
          }
        }
      ]
    },
    {
      "cell_type": "markdown",
      "source": [
        "# Evaluasi dengan Data Normalisasi"
      ],
      "metadata": {
        "id": "1Hrwe6U2Dm13"
      }
    },
    {
      "cell_type": "code",
      "source": [
        "norm_y_pred_dt_train = norm_classifier_dt.predict(X_train_norm)\n",
        "\n",
        "norm_accuracy_dt_train = accuracy_score(Y_train_norm,norm_y_pred_dt_train)\n",
        "print('Akurasi pada training set: ', norm_accuracy_dt_train)\n",
        "\n",
        "norm_precision_dt_train = precision_score(Y_train_norm,norm_y_pred_dt_train, average='micro')\n",
        "print('Precision pada training set: ', norm_precision_dt_train)\n",
        "\n",
        "norm_recall_dt_train = recall_score(Y_train_norm,norm_y_pred_dt_train, average='micro')\n",
        "print('Recall pada training set: ', norm_recall_dt_train)\n",
        "\n",
        "norm_y_pred_dt_test = norm_classifier_dt.predict(X_test_norm)\n",
        "\n",
        "norm_accuracy_dt_test = accuracy_score(Y_test_norm,norm_y_pred_dt_test)\n",
        "print('Akurasi pada test set: ', norm_accuracy_dt_test)\n",
        "\n",
        "norm_precision_dt_test = precision_score(Y_test_norm,norm_y_pred_dt_test, average='micro')\n",
        "print('Precision pada test set: ', norm_precision_dt_test)\n",
        "\n",
        "norm_recall_dt_test = recall_score(Y_test_norm,norm_y_pred_dt_test, average='micro')\n",
        "print('Recall pada test set: ', norm_recall_dt_test)"
      ],
      "metadata": {
        "colab": {
          "base_uri": "https://localhost:8080/"
        },
        "id": "ehuYh71wDopf",
        "outputId": "e19f74c0-5825-4efa-891a-d50c22b39401"
      },
      "execution_count": null,
      "outputs": [
        {
          "output_type": "stream",
          "name": "stdout",
          "text": [
            "Akurasi pada training set:  1.0\n",
            "Precision pada training set:  1.0\n",
            "Recall pada training set:  1.0\n",
            "Akurasi pada test set:  1.0\n",
            "Precision pada test set:  1.0\n",
            "Recall pada test set:  1.0\n"
          ]
        }
      ]
    },
    {
      "cell_type": "code",
      "source": [
        "# Visualisasi Confusion Matrix dengan Seaborn\n",
        "sns.heatmap(confusion_matrix(Y_test_norm,norm_y_pred_dt_test),annot=True,cmap='viridis', fmt='.0f')\n",
        "plt.xlabel('Predicted Values', fontdict={'size':14}, labelpad=10)\n",
        "plt.ylabel('Actual Values', fontdict={'size':14}, labelpad=10)\n",
        "plt.title('Confusion Matrix pada bagian testing untuk data asli')\n",
        "plt.show()"
      ],
      "metadata": {
        "colab": {
          "base_uri": "https://localhost:8080/",
          "height": 305
        },
        "id": "YcqTK9naDw6p",
        "outputId": "b9bf08a5-4997-4b27-fea3-ef9884ed4a1b"
      },
      "execution_count": null,
      "outputs": [
        {
          "output_type": "display_data",
          "data": {
            "text/plain": [
              "<Figure size 432x288 with 2 Axes>"
            ],
            "image/png": "[encoded data removed]"
          },
          "metadata": {
            "needs_background": "light"
          }
        }
      ]
    },
    {
      "cell_type": "markdown",
      "source": [
        "# Evaluasi PCA dengan Data Original"
      ],
      "metadata": {
        "id": "HTSw370zD103"
      }
    },
    {
      "cell_type": "code",
      "source": [
        "ori_pca_y_pred_dt_train = ori_pca_classifier_dt.predict(X_train_pca)\n",
        "\n",
        "ori_pca_accuracy_dt_train = accuracy_score(Y_train_pca,ori_pca_y_pred_dt_train)\n",
        "print('Akurasi pada training set: ', ori_pca_accuracy_dt_train)\n",
        "\n",
        "ori_pca_precision_dt_train = precision_score(Y_train_pca,ori_pca_y_pred_dt_train, average='micro')\n",
        "print('Precision pada training set: ', ori_pca_precision_dt_train)\n",
        "\n",
        "ori_pca_recall_dt_train = recall_score(Y_train_pca,ori_pca_y_pred_dt_train, average='micro')\n",
        "print('Recall pada training set: ', ori_pca_recall_dt_train)\n",
        "\n",
        "ori_pca_y_pred_dt_test = ori_pca_classifier_dt.predict(X_test_pca)\n",
        "\n",
        "ori_pca_accuracy_dt_test = accuracy_score(Y_test_pca,ori_pca_y_pred_dt_test)\n",
        "print('Akurasi pada test set: ', ori_pca_accuracy_dt_test)\n",
        "\n",
        "ori_pca_precision_dt_test = precision_score(Y_test_pca,ori_pca_y_pred_dt_test, average='micro')\n",
        "print('Precision pada test set: ', ori_pca_precision_dt_test)\n",
        "\n",
        "ori_pca_recall_dt_test = recall_score(Y_test_pca,ori_pca_y_pred_dt_test, average='micro')\n",
        "print('Recall pada test set: ', ori_pca_recall_dt_test)"
      ],
      "metadata": {
        "colab": {
          "base_uri": "https://localhost:8080/"
        },
        "id": "6iDxK5p_D3O5",
        "outputId": "680c7d88-c7f1-4c2c-c663-a705ea9665a3"
      },
      "execution_count": null,
      "outputs": [
        {
          "output_type": "stream",
          "name": "stdout",
          "text": [
            "Akurasi pada training set:  0.992462311557789\n",
            "Precision pada training set:  0.992462311557789\n",
            "Recall pada training set:  0.992462311557789\n",
            "Akurasi pada test set:  0.9532163742690059\n",
            "Precision pada test set:  0.9532163742690059\n",
            "Recall pada test set:  0.9532163742690059\n"
          ]
        }
      ]
    },
    {
      "cell_type": "code",
      "source": [
        "# Visualisasi Confusion Matrix dengan Seaborn\n",
        "sns.heatmap(confusion_matrix(Y_test_pca,ori_pca_y_pred_dt_test),annot=True,cmap='viridis', fmt='.0f')\n",
        "plt.xlabel('Predicted Values', fontdict={'size':14}, labelpad=10)\n",
        "plt.ylabel('Actual Values', fontdict={'size':14}, labelpad=10)\n",
        "plt.title('Confusion Matrix pada bagian testing untuk data asli')\n",
        "plt.show()"
      ],
      "metadata": {
        "colab": {
          "base_uri": "https://localhost:8080/",
          "height": 305
        },
        "id": "P5KxBEizD6NX",
        "outputId": "a45d1685-c4e3-4d33-edf6-030877718fc7"
      },
      "execution_count": null,
      "outputs": [
        {
          "output_type": "display_data",
          "data": {
            "text/plain": [
              "<Figure size 432x288 with 2 Axes>"
            ],
            "image/png": "[encoded data removed]"
          },
          "metadata": {
            "needs_background": "light"
          }
        }
      ]
    },
    {
      "cell_type": "markdown",
      "source": [
        "# Evaluasi Data Normalisasi dengan PCA"
      ],
      "metadata": {
        "id": "2skwU-p3EAP_"
      }
    },
    {
      "cell_type": "code",
      "source": [
        "norm_pca_y_pred_dt_train = norm_pca_classifier_dt.predict(X_train_norm_pca)\n",
        "\n",
        "norm_pca_accuracy_dt_train = accuracy_score(Y_train_norm_pca,norm_pca_y_pred_dt_train)\n",
        "print('Akurasi pada training set: ', norm_pca_accuracy_dt_train)\n",
        "\n",
        "norm_pca_precision_dt_train = precision_score(Y_train_norm_pca,norm_pca_y_pred_dt_train, average='micro')\n",
        "print('Precision pada training set: ', norm_pca_precision_dt_train)\n",
        "\n",
        "norm_pca_recall_dt_train = recall_score(Y_train_norm_pca,norm_pca_y_pred_dt_train, average='micro')\n",
        "print('Recall pada training set: ', norm_pca_recall_dt_train)\n",
        "\n",
        "norm_pca_y_pred_dt_test = norm_pca_classifier_dt.predict(X_test_norm_pca)\n",
        "\n",
        "norm_pca_accuracy_dt_test = accuracy_score(Y_test_norm_pca,norm_pca_y_pred_dt_test)\n",
        "print('Akurasi pada test set: ', norm_pca_accuracy_dt_test)\n",
        "\n",
        "norm_pca_precision_dt_test = precision_score(Y_test_norm_pca,norm_pca_y_pred_dt_test, average='micro')\n",
        "print('Precision pada test set: ', norm_pca_precision_dt_test)\n",
        "\n",
        "norm_pca_recall_dt_test = recall_score(Y_test_norm_pca,norm_pca_y_pred_dt_test, average='micro')\n",
        "print('Recall pada test set: ', norm_pca_recall_dt_test)"
      ],
      "metadata": {
        "colab": {
          "base_uri": "https://localhost:8080/"
        },
        "id": "98Lgz0r8EHcw",
        "outputId": "1f07daca-ccac-46a9-e18b-ece72e63d7ce"
      },
      "execution_count": null,
      "outputs": [
        {
          "output_type": "stream",
          "name": "stdout",
          "text": [
            "Akurasi pada training set:  1.0\n",
            "Precision pada training set:  1.0\n",
            "Recall pada training set:  1.0\n",
            "Akurasi pada test set:  0.9590643274853801\n",
            "Precision pada test set:  0.9590643274853801\n",
            "Recall pada test set:  0.9590643274853801\n"
          ]
        }
      ]
    },
    {
      "cell_type": "markdown",
      "source": [
        "# 11) Melakukan Proses Review Pemodelan"
      ],
      "metadata": {
        "id": "il5OphaLEQBh"
      }
    },
    {
      "cell_type": "code",
      "source": [
        "models = [\n",
        "          ('Decision Tree Data Original', ori_accuracy_dt_train, ori_accuracy_dt_test),\n",
        "          ('Decision Tree Data Normalisasi', norm_accuracy_dt_train, norm_accuracy_dt_test),\n",
        "          ('Decision Tree PCA Data Original', ori_pca_accuracy_dt_train, ori_pca_accuracy_dt_test),\n",
        "          ('Decision Tree PCA Data Normalisasi', norm_pca_accuracy_dt_train, norm_pca_accuracy_dt_test),\n",
        "         ]"
      ],
      "metadata": {
        "id": "k2Vb3dwrESGb"
      },
      "execution_count": null,
      "outputs": []
    },
    {
      "cell_type": "code",
      "source": [
        "# Melakukan perbandingan hasil training akurasi dan test akurasi dengan 4 model\n",
        "predict = pd.DataFrame(data = models, columns=['Model', 'Training Accuracy', 'Test Accuracy'])\n",
        "predict"
      ],
      "metadata": {
        "colab": {
          "base_uri": "https://localhost:8080/",
          "height": 175
        },
        "id": "RqYKZca4EXIw",
        "outputId": "47a55ffc-69b8-44fb-8f1a-96895a25fb21"
      },
      "execution_count": null,
      "outputs": [
        {
          "output_type": "execute_result",
          "data": {
            "text/plain": [
              "                                Model  Training Accuracy  Test Accuracy\n",
              "0         Decision Tree Data Original           0.638191       0.602339\n",
              "1      Decision Tree Data Normalisasi           1.000000       1.000000\n",
              "2     Decision Tree PCA Data Original           0.992462       0.953216\n",
              "3  Decision Tree PCA Data Normalisasi           1.000000       0.959064"
            ],
            "text/html": [
              "\n",
              "  <div id=\"df-c9601661-f754-4486-ad51-d1c6d3fe6afb\">\n",
              "    <div class=\"colab-df-container\">\n",
              "      <div>\n",
              "<style scoped>\n",
              "    .dataframe tbody tr th:only-of-type {\n",
              "        vertical-align: middle;\n",
              "    }\n",
              "\n",
              "    .dataframe tbody tr th {\n",
              "        vertical-align: top;\n",
              "    }\n",
              "\n",
              "    .dataframe thead th {\n",
              "        text-align: right;\n",
              "    }\n",
              "</style>\n",
              "<table border=\"1\" class=\"dataframe\">\n",
              "  <thead>\n",
              "    <tr style=\"text-align: right;\">\n",
              "      <th></th>\n",
              "      <th>Model</th>\n",
              "      <th>Training Accuracy</th>\n",
              "      <th>Test Accuracy</th>\n",
              "    </tr>\n",
              "  </thead>\n",
              "  <tbody>\n",
              "    <tr>\n",
              "      <th>0</th>\n",
              "      <td>Decision Tree Data Original</td>\n",
              "      <td>0.638191</td>\n",
              "      <td>0.602339</td>\n",
              "    </tr>\n",
              "    <tr>\n",
              "      <th>1</th>\n",
              "      <td>Decision Tree Data Normalisasi</td>\n",
              "      <td>1.000000</td>\n",
              "      <td>1.000000</td>\n",
              "    </tr>\n",
              "    <tr>\n",
              "      <th>2</th>\n",
              "      <td>Decision Tree PCA Data Original</td>\n",
              "      <td>0.992462</td>\n",
              "      <td>0.953216</td>\n",
              "    </tr>\n",
              "    <tr>\n",
              "      <th>3</th>\n",
              "      <td>Decision Tree PCA Data Normalisasi</td>\n",
              "      <td>1.000000</td>\n",
              "      <td>0.959064</td>\n",
              "    </tr>\n",
              "  </tbody>\n",
              "</table>\n",
              "</div>\n",
              "      <button class=\"colab-df-convert\" onclick=\"convertToInteractive('df-c9601661-f754-4486-ad51-d1c6d3fe6afb')\"\n",
              "              title=\"Convert this dataframe to an interactive table.\"\n",
              "              style=\"display:none;\">\n",
              "        \n",
              "  <svg xmlns=\"http://www.w3.org/2000/svg\" height=\"24px\"viewBox=\"0 0 24 24\"\n",
              "       width=\"24px\">\n",
              "    <path d=\"M0 0h24v24H0V0z\" fill=\"none\"/>\n",
              "    <path d=\"M18.56 5.44l.94 2.06.94-2.06 2.06-.94-2.06-.94-.94-2.06-.94 2.06-2.06.94zm-11 1L8.5 8.5l.94-2.06 2.06-.94-2.06-.94L8.5 2.5l-.94 2.06-2.06.94zm10 10l.94 2.06.94-2.06 2.06-.94-2.06-.94-.94-2.06-.94 2.06-2.06.94z\"/><path d=\"M17.41 7.96l-1.37-1.37c-.4-.4-.92-.59-1.43-.59-.52 0-1.04.2-1.43.59L10.3 9.45l-7.72 7.72c-.78.78-.78 2.05 0 2.83L4 21.41c.39.39.9.59 1.41.59.51 0 1.02-.2 1.41-.59l7.78-7.78 2.81-2.81c.8-.78.8-2.07 0-2.86zM5.41 20L4 18.59l7.72-7.72 1.47 1.35L5.41 20z\"/>\n",
              "  </svg>\n",
              "      </button>\n",
              "      \n",
              "  <style>\n",
              "    .colab-df-container {\n",
              "      display:flex;\n",
              "      flex-wrap:wrap;\n",
              "      gap: 12px;\n",
              "    }\n",
              "\n",
              "    .colab-df-convert {\n",
              "      background-color: #E8F0FE;\n",
              "      border: none;\n",
              "      border-radius: 50%;\n",
              "      cursor: pointer;\n",
              "      display: none;\n",
              "      fill: #1967D2;\n",
              "      height: 32px;\n",
              "      padding: 0 0 0 0;\n",
              "      width: 32px;\n",
              "    }\n",
              "\n",
              "    .colab-df-convert:hover {\n",
              "      background-color: #E2EBFA;\n",
              "      box-shadow: 0px 1px 2px rgba(60, 64, 67, 0.3), 0px 1px 3px 1px rgba(60, 64, 67, 0.15);\n",
              "      fill: #174EA6;\n",
              "    }\n",
              "\n",
              "    [theme=dark] .colab-df-convert {\n",
              "      background-color: #3B4455;\n",
              "      fill: #D2E3FC;\n",
              "    }\n",
              "\n",
              "    [theme=dark] .colab-df-convert:hover {\n",
              "      background-color: #434B5C;\n",
              "      box-shadow: 0px 1px 3px 1px rgba(0, 0, 0, 0.15);\n",
              "      filter: drop-shadow(0px 1px 2px rgba(0, 0, 0, 0.3));\n",
              "      fill: #FFFFFF;\n",
              "    }\n",
              "  </style>\n",
              "\n",
              "      <script>\n",
              "        const buttonEl =\n",
              "          document.querySelector('#df-c9601661-f754-4486-ad51-d1c6d3fe6afb button.colab-df-convert');\n",
              "        buttonEl.style.display =\n",
              "          google.colab.kernel.accessAllowed ? 'block' : 'none';\n",
              "\n",
              "        async function convertToInteractive(key) {\n",
              "          const element = document.querySelector('#df-c9601661-f754-4486-ad51-d1c6d3fe6afb');\n",
              "          const dataTable =\n",
              "            await google.colab.kernel.invokeFunction('convertToInteractive',\n",
              "                                                     [key], {});\n",
              "          if (!dataTable) return;\n",
              "\n",
              "          const docLinkHtml = 'Like what you see? Visit the ' +\n",
              "            '<a target=\"_blank\" href=https://colab.research.google.com/notebooks/data_table.ipynb>data table notebook</a>'\n",
              "            + ' to learn more about interactive tables.';\n",
              "          element.innerHTML = '';\n",
              "          dataTable['output_type'] = 'display_data';\n",
              "          await google.colab.output.renderOutput(dataTable, element);\n",
              "          const docLink = document.createElement('div');\n",
              "          docLink.innerHTML = docLinkHtml;\n",
              "          element.appendChild(docLink);\n",
              "        }\n",
              "      </script>\n",
              "    </div>\n",
              "  </div>\n",
              "  "
            ]
          },
          "metadata": {},
          "execution_count": 138
        }
      ]
    },
    {
      "cell_type": "code",
      "source": [
        "models_comparison = [\n",
        "                        ('Decision Tree Data Original', ori_accuracy_dt_test, ori_recall_dt_test, ori_precision_dt_test),\n",
        "                        ('Decision Tree Data Normalisasi', norm_accuracy_dt_test, norm_recall_dt_test, norm_precision_dt_test),\n",
        "                        ('Decision Tree PCA Data Original', ori_pca_accuracy_dt_test, ori_pca_recall_dt_test, ori_pca_precision_dt_test),\n",
        "                        ('Decision Tree PCA Data Normalisasi', norm_pca_accuracy_dt_test, norm_pca_recall_dt_test, norm_pca_precision_dt_test),\n",
        "                    ]"
      ],
      "metadata": {
        "id": "qmIGejNAEcDX"
      },
      "execution_count": null,
      "outputs": []
    },
    {
      "cell_type": "code",
      "source": [
        "# Melakukan perbandingan hasil Akurasi, Presisi dan Recall pada data Testing dengan 4 model\n",
        "comparison = pd.DataFrame(data = models_comparison, columns=['Model', 'Accuracy', 'Recall', 'Precision'])\n",
        "comparison"
      ],
      "metadata": {
        "colab": {
          "base_uri": "https://localhost:8080/",
          "height": 175
        },
        "id": "F_xC5DM9EfOI",
        "outputId": "709f437f-4f16-4e6a-bc5f-0daf543078e4"
      },
      "execution_count": null,
      "outputs": [
        {
          "output_type": "execute_result",
          "data": {
            "text/plain": [
              "                                Model  Accuracy    Recall  Precision\n",
              "0         Decision Tree Data Original  0.602339  0.602339   0.602339\n",
              "1      Decision Tree Data Normalisasi  1.000000  1.000000   1.000000\n",
              "2     Decision Tree PCA Data Original  0.953216  0.953216   0.953216\n",
              "3  Decision Tree PCA Data Normalisasi  0.959064  0.959064   0.959064"
            ],
            "text/html": [
              "\n",
              "  <div id=\"df-9d1c697e-4f27-44d7-a5bf-4da53e048449\">\n",
              "    <div class=\"colab-df-container\">\n",
              "      <div>\n",
              "<style scoped>\n",
              "    .dataframe tbody tr th:only-of-type {\n",
              "        vertical-align: middle;\n",
              "    }\n",
              "\n",
              "    .dataframe tbody tr th {\n",
              "        vertical-align: top;\n",
              "    }\n",
              "\n",
              "    .dataframe thead th {\n",
              "        text-align: right;\n",
              "    }\n",
              "</style>\n",
              "<table border=\"1\" class=\"dataframe\">\n",
              "  <thead>\n",
              "    <tr style=\"text-align: right;\">\n",
              "      <th></th>\n",
              "      <th>Model</th>\n",
              "      <th>Accuracy</th>\n",
              "      <th>Recall</th>\n",
              "      <th>Precision</th>\n",
              "    </tr>\n",
              "  </thead>\n",
              "  <tbody>\n",
              "    <tr>\n",
              "      <th>0</th>\n",
              "      <td>Decision Tree Data Original</td>\n",
              "      <td>0.602339</td>\n",
              "      <td>0.602339</td>\n",
              "      <td>0.602339</td>\n",
              "    </tr>\n",
              "    <tr>\n",
              "      <th>1</th>\n",
              "      <td>Decision Tree Data Normalisasi</td>\n",
              "      <td>1.000000</td>\n",
              "      <td>1.000000</td>\n",
              "      <td>1.000000</td>\n",
              "    </tr>\n",
              "    <tr>\n",
              "      <th>2</th>\n",
              "      <td>Decision Tree PCA Data Original</td>\n",
              "      <td>0.953216</td>\n",
              "      <td>0.953216</td>\n",
              "      <td>0.953216</td>\n",
              "    </tr>\n",
              "    <tr>\n",
              "      <th>3</th>\n",
              "      <td>Decision Tree PCA Data Normalisasi</td>\n",
              "      <td>0.959064</td>\n",
              "      <td>0.959064</td>\n",
              "      <td>0.959064</td>\n",
              "    </tr>\n",
              "  </tbody>\n",
              "</table>\n",
              "</div>\n",
              "      <button class=\"colab-df-convert\" onclick=\"convertToInteractive('df-9d1c697e-4f27-44d7-a5bf-4da53e048449')\"\n",
              "              title=\"Convert this dataframe to an interactive table.\"\n",
              "              style=\"display:none;\">\n",
              "        \n",
              "  <svg xmlns=\"http://www.w3.org/2000/svg\" height=\"24px\"viewBox=\"0 0 24 24\"\n",
              "       width=\"24px\">\n",
              "    <path d=\"M0 0h24v24H0V0z\" fill=\"none\"/>\n",
              "    <path d=\"M18.56 5.44l.94 2.06.94-2.06 2.06-.94-2.06-.94-.94-2.06-.94 2.06-2.06.94zm-11 1L8.5 8.5l.94-2.06 2.06-.94-2.06-.94L8.5 2.5l-.94 2.06-2.06.94zm10 10l.94 2.06.94-2.06 2.06-.94-2.06-.94-.94-2.06-.94 2.06-2.06.94z\"/><path d=\"M17.41 7.96l-1.37-1.37c-.4-.4-.92-.59-1.43-.59-.52 0-1.04.2-1.43.59L10.3 9.45l-7.72 7.72c-.78.78-.78 2.05 0 2.83L4 21.41c.39.39.9.59 1.41.59.51 0 1.02-.2 1.41-.59l7.78-7.78 2.81-2.81c.8-.78.8-2.07 0-2.86zM5.41 20L4 18.59l7.72-7.72 1.47 1.35L5.41 20z\"/>\n",
              "  </svg>\n",
              "      </button>\n",
              "      \n",
              "  <style>\n",
              "    .colab-df-container {\n",
              "      display:flex;\n",
              "      flex-wrap:wrap;\n",
              "      gap: 12px;\n",
              "    }\n",
              "\n",
              "    .colab-df-convert {\n",
              "      background-color: #E8F0FE;\n",
              "      border: none;\n",
              "      border-radius: 50%;\n",
              "      cursor: pointer;\n",
              "      display: none;\n",
              "      fill: #1967D2;\n",
              "      height: 32px;\n",
              "      padding: 0 0 0 0;\n",
              "      width: 32px;\n",
              "    }\n",
              "\n",
              "    .colab-df-convert:hover {\n",
              "      background-color: #E2EBFA;\n",
              "      box-shadow: 0px 1px 2px rgba(60, 64, 67, 0.3), 0px 1px 3px 1px rgba(60, 64, 67, 0.15);\n",
              "      fill: #174EA6;\n",
              "    }\n",
              "\n",
              "    [theme=dark] .colab-df-convert {\n",
              "      background-color: #3B4455;\n",
              "      fill: #D2E3FC;\n",
              "    }\n",
              "\n",
              "    [theme=dark] .colab-df-convert:hover {\n",
              "      background-color: #434B5C;\n",
              "      box-shadow: 0px 1px 3px 1px rgba(0, 0, 0, 0.15);\n",
              "      filter: drop-shadow(0px 1px 2px rgba(0, 0, 0, 0.3));\n",
              "      fill: #FFFFFF;\n",
              "    }\n",
              "  </style>\n",
              "\n",
              "      <script>\n",
              "        const buttonEl =\n",
              "          document.querySelector('#df-9d1c697e-4f27-44d7-a5bf-4da53e048449 button.colab-df-convert');\n",
              "        buttonEl.style.display =\n",
              "          google.colab.kernel.accessAllowed ? 'block' : 'none';\n",
              "\n",
              "        async function convertToInteractive(key) {\n",
              "          const element = document.querySelector('#df-9d1c697e-4f27-44d7-a5bf-4da53e048449');\n",
              "          const dataTable =\n",
              "            await google.colab.kernel.invokeFunction('convertToInteractive',\n",
              "                                                     [key], {});\n",
              "          if (!dataTable) return;\n",
              "\n",
              "          const docLinkHtml = 'Like what you see? Visit the ' +\n",
              "            '<a target=\"_blank\" href=https://colab.research.google.com/notebooks/data_table.ipynb>data table notebook</a>'\n",
              "            + ' to learn more about interactive tables.';\n",
              "          element.innerHTML = '';\n",
              "          dataTable['output_type'] = 'display_data';\n",
              "          await google.colab.output.renderOutput(dataTable, element);\n",
              "          const docLink = document.createElement('div');\n",
              "          docLink.innerHTML = docLinkHtml;\n",
              "          element.appendChild(docLink);\n",
              "        }\n",
              "      </script>\n",
              "    </div>\n",
              "  </div>\n",
              "  "
            ]
          },
          "metadata": {},
          "execution_count": 140
        }
      ]
    },
    {
      "cell_type": "code",
      "source": [
        "# Visualisasi Perbandingan 4 model dengan Seaborn\n",
        "\n",
        "f, axes = plt.subplots(2,1, figsize=(10,6))\n",
        "\n",
        "predict.sort_values(by=['Training Accuracy'], ascending=False, inplace=True)\n",
        "\n",
        "sns.barplot(x='Training Accuracy', y='Model', data = predict, palette='Blues_d', ax = axes[0])\n",
        "#axes[0].set(xlabel='Region', ylabel='Charges')\n",
        "axes[0].set_xlabel('Training Accuracy', size=16)\n",
        "axes[0].set_ylabel('Model')\n",
        "axes[0].set_xlim(0,1.0)\n",
        "axes[0].set_xticks(np.arange(0, 1.1, 0.1))\n",
        "\n",
        "predict.sort_values(by=['Test Accuracy'], ascending=False, inplace=True)\n",
        "\n",
        "sns.barplot(x='Test Accuracy', y='Model', data = predict, palette='Greens_d', ax = axes[1])\n",
        "#axes[0].set(xlabel='Region', ylabel='Charges')\n",
        "axes[1].set_xlabel('Test Accuracy', size=16)\n",
        "axes[1].set_ylabel('Model')\n",
        "axes[1].set_xlim(0,1.0)\n",
        "axes[1].set_xticks(np.arange(0, 1.1, 0.1))\n",
        "\n",
        "plt.show()"
      ],
      "metadata": {
        "colab": {
          "base_uri": "https://localhost:8080/",
          "height": 393
        },
        "id": "umeo3-HKEiIF",
        "outputId": "64663359-2d1d-49c8-8e7a-5a3d5dff7722"
      },
      "execution_count": null,
      "outputs": [
        {
          "output_type": "display_data",
          "data": {
            "text/plain": [
              "<Figure size 720x432 with 2 Axes>"
            ],
            "image/png": "[encoded data removed]"
          },
          "metadata": {
            "needs_background": "light"
          }
        }
      ]
    },
    {
      "cell_type": "markdown",
      "source": [
        "# Kesimpulan :\n",
        "berdasarkan case kanker payudara dapat disimpulkan permodelan decision tree yang tinggi akurasinya untuk digunakan adalah data PCA Normal , dan tingkat akurasi yang didapatkan dari data training sebesar 100% dan pada data testing sebesar 95%."
      ],
      "metadata": {
        "id": "_idtZSnvEl8J"
      }
    }
  ]
}